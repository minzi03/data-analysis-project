{
 "cells": [
  {
   "cell_type": "markdown",
   "id": "74113ec1",
   "metadata": {
    "papermill": {
     "duration": 0.022316,
     "end_time": "2023-06-11T13:42:17.126322",
     "exception": false,
     "start_time": "2023-06-11T13:42:17.104006",
     "status": "completed"
    },
    "tags": []
   },
   "source": [
    "# Dataset overview\n",
    "\n",
    "Dữ liệu chứa lịch sử 2 năm của các chiến dịch nhắn tin đa kênh(multichannel messaging campaigns) trong một công ty bán lẻ vừa và nhỏ.\n",
    "\n",
    "Đa kênh(Multichannel) có nghĩa là công ty gửi tin nhắn qua nhiều kênh khác nhau: email, web push, mobile push, SMS.\n",
    "\n",
    "Các chiến dịch(Campaigns) có thể là chiến dịch gửi hàng loạt(bulk), gửi theo sự kiện(trigger) hoặc giao dịch(transactional)\n",
    "\n",
    "Mỗi tin nhắn chứa các thống kê chi tiết về việc giao tin(delivery), mở tin(open), nhấp chuột(click), mua hàng(purchase) và tất cả các sự kiện tiêu cực như hủy đăng ký(unsubscribe), khiếu nại spam(spam complaint) và trả lại tin(bounces)."
   ]
  },
  {
   "cell_type": "code",
   "execution_count": 1,
   "id": "476e9969",
   "metadata": {
    "execution": {
     "iopub.execute_input": "2023-06-11T13:42:17.159497Z",
     "iopub.status.busy": "2023-06-11T13:42:17.159061Z",
     "iopub.status.idle": "2023-06-11T13:42:17.171825Z",
     "shell.execute_reply": "2023-06-11T13:42:17.170625Z"
    },
    "papermill": {
     "duration": 0.032369,
     "end_time": "2023-06-11T13:42:17.174554",
     "exception": false,
     "start_time": "2023-06-11T13:42:17.142185",
     "status": "completed"
    },
    "tags": []
   },
   "outputs": [],
   "source": [
    "import numpy as np\n",
    "import pandas as pd\n",
    "import matplotlib.pyplot as plt"
   ]
  },
  {
   "cell_type": "markdown",
   "id": "50be0fff",
   "metadata": {
    "papermill": {
     "duration": 0.015777,
     "end_time": "2023-06-11T13:42:17.206843",
     "exception": false,
     "start_time": "2023-06-11T13:42:17.191066",
     "status": "completed"
    },
    "tags": []
   },
   "source": [
    "# Ngày Lễ(Holidays)\n",
    "\n",
    "Không chứa danh sách đầy đủ các ngày lễ(holidays) và sự kiện(events) liên quan đến các chiến dịch gửi hàng loạt(bulk campaigns). Hầu hết là các ngày lễ chính thức, nhưng một số sự kiện liên quan đến các đợt bán hàng:\n",
    "\n",
    "* Black Friday (Ngày Thứ Sáu Đen)\n",
    "* Cyber Monday Sale (Ngày Thứ Hai Mua Sắm Online)\n",
    "* Back to School (Ngày Mua Sắm Trở Lại Trường)\n",
    "\n",
    "Các nhà bán lẻ thường gửi các chiến dịch hàng loạt với các ưu đãi từ 1-3 ngày trước khi diễn ra ngày lễ. Vì vậy, bạn có thể phân tích cách thức gửi tin nhắn và doanh thu liên quan đến các ngày lễ này."
   ]
  },
  {
   "cell_type": "code",
   "execution_count": 2,
   "id": "53fc43f5",
   "metadata": {
    "editable": false,
    "execution": {
     "iopub.execute_input": "2023-06-11T13:42:17.239200Z",
     "iopub.status.busy": "2023-06-11T13:42:17.238772Z",
     "iopub.status.idle": "2023-06-11T13:42:17.298615Z",
     "shell.execute_reply": "2023-06-11T13:42:17.297007Z"
    },
    "papermill": {
     "duration": 0.079262,
     "end_time": "2023-06-11T13:42:17.301316",
     "exception": false,
     "start_time": "2023-06-11T13:42:17.222054",
     "status": "completed"
    },
    "tags": []
   },
   "outputs": [
    {
     "data": {
      "text/html": [
       "<div>\n",
       "<style scoped>\n",
       "    .dataframe tbody tr th:only-of-type {\n",
       "        vertical-align: middle;\n",
       "    }\n",
       "\n",
       "    .dataframe tbody tr th {\n",
       "        vertical-align: top;\n",
       "    }\n",
       "\n",
       "    .dataframe thead th {\n",
       "        text-align: right;\n",
       "    }\n",
       "</style>\n",
       "<table border=\"1\" class=\"dataframe\">\n",
       "  <thead>\n",
       "    <tr style=\"text-align: right;\">\n",
       "      <th></th>\n",
       "      <th>date</th>\n",
       "      <th>holiday</th>\n",
       "    </tr>\n",
       "  </thead>\n",
       "  <tbody>\n",
       "    <tr>\n",
       "      <th>0</th>\n",
       "      <td>2021-01-01</td>\n",
       "      <td>New Year</td>\n",
       "    </tr>\n",
       "    <tr>\n",
       "      <th>1</th>\n",
       "      <td>2021-01-07</td>\n",
       "      <td>Orthodox Christmas</td>\n",
       "    </tr>\n",
       "    <tr>\n",
       "      <th>2</th>\n",
       "      <td>2021-01-13</td>\n",
       "      <td>Old New Year</td>\n",
       "    </tr>\n",
       "    <tr>\n",
       "      <th>3</th>\n",
       "      <td>2021-01-19</td>\n",
       "      <td>Baptizing - Sacred Epiphany</td>\n",
       "    </tr>\n",
       "    <tr>\n",
       "      <th>4</th>\n",
       "      <td>2021-01-25</td>\n",
       "      <td>Students day</td>\n",
       "    </tr>\n",
       "  </tbody>\n",
       "</table>\n",
       "</div>"
      ],
      "text/plain": [
       "         date                      holiday\n",
       "0  2021-01-01                     New Year\n",
       "1  2021-01-07           Orthodox Christmas\n",
       "2  2021-01-13                 Old New Year\n",
       "3  2021-01-19  Baptizing - Sacred Epiphany\n",
       "4  2021-01-25                 Students day"
      ]
     },
     "execution_count": 2,
     "metadata": {},
     "output_type": "execute_result"
    }
   ],
   "source": [
    "# Đọc dữ liệu từ tệp holidays.csv\n",
    "holidays_df = pd.read_csv('dataset/holidays.csv')\n",
    "holidays_df.head()  # Hiển thị 5 dòng đầu tiên của dataframe"
   ]
  },
  {
   "cell_type": "code",
   "execution_count": 3,
   "id": "2b8e936d",
   "metadata": {
    "execution": {
     "iopub.execute_input": "2023-06-11T13:42:17.334493Z",
     "iopub.status.busy": "2023-06-11T13:42:17.334034Z",
     "iopub.status.idle": "2023-06-11T13:42:17.361633Z",
     "shell.execute_reply": "2023-06-11T13:42:17.359903Z"
    },
    "papermill": {
     "duration": 0.047637,
     "end_time": "2023-06-11T13:42:17.364541",
     "exception": false,
     "start_time": "2023-06-11T13:42:17.316904",
     "status": "completed"
    },
    "tags": []
   },
   "outputs": [
    {
     "name": "stdout",
     "output_type": "stream",
     "text": [
      "<class 'pandas.core.frame.DataFrame'>\n",
      "RangeIndex: 48 entries, 0 to 47\n",
      "Data columns (total 2 columns):\n",
      " #   Column   Non-Null Count  Dtype \n",
      "---  ------   --------------  ----- \n",
      " 0   date     48 non-null     object\n",
      " 1   holiday  48 non-null     object\n",
      "dtypes: object(2)\n",
      "memory usage: 900.0+ bytes\n"
     ]
    }
   ],
   "source": [
    "holidays_df.info()  # Hiển thị thông tin về các cột trong dataframe"
   ]
  },
  {
   "cell_type": "markdown",
   "id": "ab076154",
   "metadata": {
    "papermill": {
     "duration": 0.015205,
     "end_time": "2023-06-11T13:42:17.395462",
     "exception": false,
     "start_time": "2023-06-11T13:42:17.380257",
     "status": "completed"
    },
    "tags": []
   },
   "source": [
    "# Chiến Dịch(Campaigns)\n",
    "\n",
    "Chiến dịch là các hoạt động nhắn tin đến một nhóm người nhận."
   ]
  },
  {
   "cell_type": "code",
   "execution_count": 4,
   "id": "3cc6fd9f",
   "metadata": {
    "execution": {
     "iopub.execute_input": "2023-06-11T13:42:17.430406Z",
     "iopub.status.busy": "2023-06-11T13:42:17.429692Z",
     "iopub.status.idle": "2023-06-11T13:42:17.502054Z",
     "shell.execute_reply": "2023-06-11T13:42:17.500873Z"
    },
    "papermill": {
     "duration": 0.093205,
     "end_time": "2023-06-11T13:42:17.505026",
     "exception": false,
     "start_time": "2023-06-11T13:42:17.411821",
     "status": "completed"
    },
    "tags": []
   },
   "outputs": [
    {
     "data": {
      "text/html": [
       "<div>\n",
       "<style scoped>\n",
       "    .dataframe tbody tr th:only-of-type {\n",
       "        vertical-align: middle;\n",
       "    }\n",
       "\n",
       "    .dataframe tbody tr th {\n",
       "        vertical-align: top;\n",
       "    }\n",
       "\n",
       "    .dataframe thead th {\n",
       "        text-align: right;\n",
       "    }\n",
       "</style>\n",
       "<table border=\"1\" class=\"dataframe\">\n",
       "  <thead>\n",
       "    <tr style=\"text-align: right;\">\n",
       "      <th></th>\n",
       "      <th>id</th>\n",
       "      <th>campaign_type</th>\n",
       "      <th>channel</th>\n",
       "      <th>topic</th>\n",
       "      <th>started_at</th>\n",
       "      <th>finished_at</th>\n",
       "      <th>total_count</th>\n",
       "      <th>ab_test</th>\n",
       "      <th>warmup_mode</th>\n",
       "      <th>hour_limit</th>\n",
       "      <th>subject_length</th>\n",
       "      <th>subject_with_personalization</th>\n",
       "      <th>subject_with_deadline</th>\n",
       "      <th>subject_with_emoji</th>\n",
       "      <th>subject_with_bonuses</th>\n",
       "      <th>subject_with_discount</th>\n",
       "      <th>subject_with_saleout</th>\n",
       "      <th>is_test</th>\n",
       "      <th>position</th>\n",
       "    </tr>\n",
       "  </thead>\n",
       "  <tbody>\n",
       "    <tr>\n",
       "      <th>0</th>\n",
       "      <td>63</td>\n",
       "      <td>bulk</td>\n",
       "      <td>mobile_push</td>\n",
       "      <td>sale out</td>\n",
       "      <td>2021-04-30 07:22:36.615023</td>\n",
       "      <td>2021-04-30 07:23:41</td>\n",
       "      <td>48211</td>\n",
       "      <td>True</td>\n",
       "      <td>False</td>\n",
       "      <td>&lt;NA&gt;</td>\n",
       "      <td>146</td>\n",
       "      <td>False</td>\n",
       "      <td>False</td>\n",
       "      <td>True</td>\n",
       "      <td>False</td>\n",
       "      <td>False</td>\n",
       "      <td>False</td>\n",
       "      <td>True</td>\n",
       "      <td>&lt;NA&gt;</td>\n",
       "    </tr>\n",
       "    <tr>\n",
       "      <th>1</th>\n",
       "      <td>64</td>\n",
       "      <td>bulk</td>\n",
       "      <td>mobile_push</td>\n",
       "      <td>sale out</td>\n",
       "      <td>2021-04-30 09:02:50.817227</td>\n",
       "      <td>2021-04-30 09:04:08</td>\n",
       "      <td>1037337</td>\n",
       "      <td>True</td>\n",
       "      <td>False</td>\n",
       "      <td>&lt;NA&gt;</td>\n",
       "      <td>97</td>\n",
       "      <td>False</td>\n",
       "      <td>False</td>\n",
       "      <td>True</td>\n",
       "      <td>False</td>\n",
       "      <td>False</td>\n",
       "      <td>False</td>\n",
       "      <td>True</td>\n",
       "      <td>&lt;NA&gt;</td>\n",
       "    </tr>\n",
       "    <tr>\n",
       "      <th>2</th>\n",
       "      <td>78</td>\n",
       "      <td>bulk</td>\n",
       "      <td>mobile_push</td>\n",
       "      <td>sale out</td>\n",
       "      <td>2021-05-06 07:14:10.533318</td>\n",
       "      <td>2021-05-06 07:15:17</td>\n",
       "      <td>70080</td>\n",
       "      <td>True</td>\n",
       "      <td>False</td>\n",
       "      <td>&lt;NA&gt;</td>\n",
       "      <td>146</td>\n",
       "      <td>False</td>\n",
       "      <td>False</td>\n",
       "      <td>True</td>\n",
       "      <td>False</td>\n",
       "      <td>False</td>\n",
       "      <td>False</td>\n",
       "      <td>True</td>\n",
       "      <td>&lt;NA&gt;</td>\n",
       "    </tr>\n",
       "    <tr>\n",
       "      <th>3</th>\n",
       "      <td>79</td>\n",
       "      <td>bulk</td>\n",
       "      <td>mobile_push</td>\n",
       "      <td>sale out</td>\n",
       "      <td>2021-05-06 09:03:56.486750</td>\n",
       "      <td>2021-05-06 09:42:15</td>\n",
       "      <td>921838</td>\n",
       "      <td>True</td>\n",
       "      <td>False</td>\n",
       "      <td>&lt;NA&gt;</td>\n",
       "      <td>97</td>\n",
       "      <td>False</td>\n",
       "      <td>False</td>\n",
       "      <td>True</td>\n",
       "      <td>False</td>\n",
       "      <td>False</td>\n",
       "      <td>False</td>\n",
       "      <td>True</td>\n",
       "      <td>&lt;NA&gt;</td>\n",
       "    </tr>\n",
       "    <tr>\n",
       "      <th>4</th>\n",
       "      <td>89</td>\n",
       "      <td>bulk</td>\n",
       "      <td>mobile_push</td>\n",
       "      <td>NaN</td>\n",
       "      <td>2021-05-07 11:54:06.168664</td>\n",
       "      <td>2021-05-07 11:54:38</td>\n",
       "      <td>45503</td>\n",
       "      <td>True</td>\n",
       "      <td>False</td>\n",
       "      <td>&lt;NA&gt;</td>\n",
       "      <td>109</td>\n",
       "      <td>False</td>\n",
       "      <td>True</td>\n",
       "      <td>True</td>\n",
       "      <td>False</td>\n",
       "      <td>False</td>\n",
       "      <td>False</td>\n",
       "      <td>True</td>\n",
       "      <td>&lt;NA&gt;</td>\n",
       "    </tr>\n",
       "  </tbody>\n",
       "</table>\n",
       "</div>"
      ],
      "text/plain": [
       "   id campaign_type      channel     topic                 started_at  \\\n",
       "0  63          bulk  mobile_push  sale out 2021-04-30 07:22:36.615023   \n",
       "1  64          bulk  mobile_push  sale out 2021-04-30 09:02:50.817227   \n",
       "2  78          bulk  mobile_push  sale out 2021-05-06 07:14:10.533318   \n",
       "3  79          bulk  mobile_push  sale out 2021-05-06 09:03:56.486750   \n",
       "4  89          bulk  mobile_push       NaN 2021-05-07 11:54:06.168664   \n",
       "\n",
       "          finished_at  total_count  ab_test  warmup_mode  hour_limit  \\\n",
       "0 2021-04-30 07:23:41        48211     True        False        <NA>   \n",
       "1 2021-04-30 09:04:08      1037337     True        False        <NA>   \n",
       "2 2021-05-06 07:15:17        70080     True        False        <NA>   \n",
       "3 2021-05-06 09:42:15       921838     True        False        <NA>   \n",
       "4 2021-05-07 11:54:38        45503     True        False        <NA>   \n",
       "\n",
       "   subject_length subject_with_personalization subject_with_deadline  \\\n",
       "0             146                        False                 False   \n",
       "1              97                        False                 False   \n",
       "2             146                        False                 False   \n",
       "3              97                        False                 False   \n",
       "4             109                        False                  True   \n",
       "\n",
       "  subject_with_emoji subject_with_bonuses subject_with_discount  \\\n",
       "0               True                False                 False   \n",
       "1               True                False                 False   \n",
       "2               True                False                 False   \n",
       "3               True                False                 False   \n",
       "4               True                False                 False   \n",
       "\n",
       "  subject_with_saleout  is_test  position  \n",
       "0                False     True      <NA>  \n",
       "1                False     True      <NA>  \n",
       "2                False     True      <NA>  \n",
       "3                False     True      <NA>  \n",
       "4                False     True      <NA>  "
      ]
     },
     "execution_count": 4,
     "metadata": {},
     "output_type": "execute_result"
    }
   ],
   "source": [
    "# Đọc dữ liệu từ tệp campaigns.csv\n",
    "campaigns_df = pd.read_csv('dataset/campaigns.csv')\n",
    "\n",
    "# Đổi kiểu dữ liệu của một số cột trong campaigns_df\n",
    "campaigns_df['total_count']      = campaigns_df['total_count'].astype('Int64')\n",
    "campaigns_df['subject_length']   = campaigns_df['subject_length'].astype('Int64')\n",
    "campaigns_df['position']         = campaigns_df['position'].astype('Int64')\n",
    "campaigns_df['hour_limit']       = campaigns_df['hour_limit'].astype('Int64')\n",
    "campaigns_df['started_at']       = pd.to_datetime(campaigns_df['started_at'])  # Chuyển đổi cột started_at sang kiểu datetime\n",
    "campaigns_df['finished_at']      = pd.to_datetime(campaigns_df['finished_at'])  # Chuyển đổi cột finished_at sang kiểu datetime\n",
    "campaigns_df['ab_test']          = campaigns_df['ab_test'].astype('bool')  # Chuyển đổi cột ab_test thành kiểu boolean\n",
    "campaigns_df['is_test']          = campaigns_df['is_test'].astype('bool')  # Chuyển đổi cột is_test thành kiểu boolean\n",
    "campaigns_df['warmup_mode']      = campaigns_df['warmup_mode'].astype('bool')  # Chuyển đổi cột warmup_mode thành kiểu boolean\n",
    "\n",
    "# Hiển thị thông tin về các cột trong campaigns_df\n",
    "campaigns_df.head()"
   ]
  },
  {
   "cell_type": "code",
   "execution_count": 5,
   "id": "b07d1955",
   "metadata": {
    "execution": {
     "iopub.execute_input": "2023-06-11T13:42:17.540723Z",
     "iopub.status.busy": "2023-06-11T13:42:17.539590Z",
     "iopub.status.idle": "2023-06-11T13:42:17.548031Z",
     "shell.execute_reply": "2023-06-11T13:42:17.546751Z"
    },
    "papermill": {
     "duration": 0.028869,
     "end_time": "2023-06-11T13:42:17.550396",
     "exception": false,
     "start_time": "2023-06-11T13:42:17.521527",
     "status": "completed"
    },
    "tags": []
   },
   "outputs": [
    {
     "data": {
      "text/plain": [
       "['id',\n",
       " 'campaign_type',\n",
       " 'channel',\n",
       " 'topic',\n",
       " 'started_at',\n",
       " 'finished_at',\n",
       " 'total_count',\n",
       " 'ab_test',\n",
       " 'warmup_mode',\n",
       " 'hour_limit',\n",
       " 'subject_length',\n",
       " 'subject_with_personalization',\n",
       " 'subject_with_deadline',\n",
       " 'subject_with_emoji',\n",
       " 'subject_with_bonuses',\n",
       " 'subject_with_discount',\n",
       " 'subject_with_saleout',\n",
       " 'is_test',\n",
       " 'position']"
      ]
     },
     "execution_count": 5,
     "metadata": {},
     "output_type": "execute_result"
    }
   ],
   "source": [
    "list(campaigns_df.columns)  # Hiển thị danh sách các tên cột trong campaigns_df"
   ]
  },
  {
   "cell_type": "markdown",
   "id": "628d3e89",
   "metadata": {
    "papermill": {
     "duration": 0.015993,
     "end_time": "2023-06-11T13:42:17.582865",
     "exception": false,
     "start_time": "2023-06-11T13:42:17.566872",
     "status": "completed"
    },
    "tags": []
   },
   "source": [
    "## Kênh(Channels)\n",
    "\n",
    "Kênh là một loại chiến dịch, bao gồm các kênh như:\n",
    "\n",
    "- email\n",
    "- mobile push\n",
    "- web push\n",
    "- SMS\n",
    "\n",
    "Các đặc tính và chỉ số của chiến dịch phụ thuộc vào kênh sử dụng:\n",
    "\n",
    "### Email\n",
    "\n",
    "Email có tiêu đề, nội dung (thường là HTML với nhiều thông tin, ưu đãi và sự cá nhân hóa) và nhiều chỉ số như: nhấp chuột(click), khiếu nại spam(spam complaint), lỗi trả lại (hard bounce), hủy đăng ký(unsubscribe)."
   ]
  },
  {
   "cell_type": "code",
   "execution_count": 6,
   "id": "ccc08523",
   "metadata": {
    "execution": {
     "iopub.execute_input": "2023-06-11T13:42:17.621002Z",
     "iopub.status.busy": "2023-06-11T13:42:17.620149Z",
     "iopub.status.idle": "2023-06-11T13:42:17.651649Z",
     "shell.execute_reply": "2023-06-11T13:42:17.650441Z"
    },
    "papermill": {
     "duration": 0.053973,
     "end_time": "2023-06-11T13:42:17.654214",
     "exception": false,
     "start_time": "2023-06-11T13:42:17.600241",
     "status": "completed"
    },
    "tags": []
   },
   "outputs": [
    {
     "data": {
      "text/html": [
       "<div>\n",
       "<style scoped>\n",
       "    .dataframe tbody tr th:only-of-type {\n",
       "        vertical-align: middle;\n",
       "    }\n",
       "\n",
       "    .dataframe tbody tr th {\n",
       "        vertical-align: top;\n",
       "    }\n",
       "\n",
       "    .dataframe thead th {\n",
       "        text-align: right;\n",
       "    }\n",
       "</style>\n",
       "<table border=\"1\" class=\"dataframe\">\n",
       "  <thead>\n",
       "    <tr style=\"text-align: right;\">\n",
       "      <th></th>\n",
       "      <th>id</th>\n",
       "      <th>campaign_type</th>\n",
       "      <th>channel</th>\n",
       "      <th>topic</th>\n",
       "      <th>started_at</th>\n",
       "      <th>finished_at</th>\n",
       "      <th>total_count</th>\n",
       "      <th>ab_test</th>\n",
       "      <th>warmup_mode</th>\n",
       "      <th>hour_limit</th>\n",
       "      <th>subject_length</th>\n",
       "      <th>subject_with_personalization</th>\n",
       "      <th>subject_with_deadline</th>\n",
       "      <th>subject_with_emoji</th>\n",
       "      <th>subject_with_bonuses</th>\n",
       "      <th>subject_with_discount</th>\n",
       "      <th>subject_with_saleout</th>\n",
       "      <th>is_test</th>\n",
       "      <th>position</th>\n",
       "    </tr>\n",
       "  </thead>\n",
       "  <tbody>\n",
       "    <tr>\n",
       "      <th>7</th>\n",
       "      <td>129</td>\n",
       "      <td>bulk</td>\n",
       "      <td>email</td>\n",
       "      <td>sale out</td>\n",
       "      <td>2021-05-18 07:38:49.825780</td>\n",
       "      <td>2021-05-18 07:38:58</td>\n",
       "      <td>3</td>\n",
       "      <td>True</td>\n",
       "      <td>False</td>\n",
       "      <td>&lt;NA&gt;</td>\n",
       "      <td>133</td>\n",
       "      <td>False</td>\n",
       "      <td>False</td>\n",
       "      <td>True</td>\n",
       "      <td>False</td>\n",
       "      <td>False</td>\n",
       "      <td>False</td>\n",
       "      <td>True</td>\n",
       "      <td>&lt;NA&gt;</td>\n",
       "    </tr>\n",
       "    <tr>\n",
       "      <th>8</th>\n",
       "      <td>136</td>\n",
       "      <td>bulk</td>\n",
       "      <td>email</td>\n",
       "      <td>sale out</td>\n",
       "      <td>2021-05-19 07:00:11.121170</td>\n",
       "      <td>2021-05-19 08:03:19</td>\n",
       "      <td>177363</td>\n",
       "      <td>True</td>\n",
       "      <td>False</td>\n",
       "      <td>&lt;NA&gt;</td>\n",
       "      <td>133</td>\n",
       "      <td>False</td>\n",
       "      <td>False</td>\n",
       "      <td>True</td>\n",
       "      <td>False</td>\n",
       "      <td>False</td>\n",
       "      <td>False</td>\n",
       "      <td>True</td>\n",
       "      <td>&lt;NA&gt;</td>\n",
       "    </tr>\n",
       "    <tr>\n",
       "      <th>11</th>\n",
       "      <td>143</td>\n",
       "      <td>bulk</td>\n",
       "      <td>email</td>\n",
       "      <td>sale out</td>\n",
       "      <td>2021-05-20 08:00:16.293566</td>\n",
       "      <td>2021-05-20 08:57:18</td>\n",
       "      <td>283063</td>\n",
       "      <td>True</td>\n",
       "      <td>False</td>\n",
       "      <td>&lt;NA&gt;</td>\n",
       "      <td>112</td>\n",
       "      <td>False</td>\n",
       "      <td>False</td>\n",
       "      <td>True</td>\n",
       "      <td>False</td>\n",
       "      <td>False</td>\n",
       "      <td>False</td>\n",
       "      <td>True</td>\n",
       "      <td>&lt;NA&gt;</td>\n",
       "    </tr>\n",
       "  </tbody>\n",
       "</table>\n",
       "</div>"
      ],
      "text/plain": [
       "     id campaign_type channel     topic                 started_at  \\\n",
       "7   129          bulk   email  sale out 2021-05-18 07:38:49.825780   \n",
       "8   136          bulk   email  sale out 2021-05-19 07:00:11.121170   \n",
       "11  143          bulk   email  sale out 2021-05-20 08:00:16.293566   \n",
       "\n",
       "           finished_at  total_count  ab_test  warmup_mode  hour_limit  \\\n",
       "7  2021-05-18 07:38:58            3     True        False        <NA>   \n",
       "8  2021-05-19 08:03:19       177363     True        False        <NA>   \n",
       "11 2021-05-20 08:57:18       283063     True        False        <NA>   \n",
       "\n",
       "    subject_length subject_with_personalization subject_with_deadline  \\\n",
       "7              133                        False                 False   \n",
       "8              133                        False                 False   \n",
       "11             112                        False                 False   \n",
       "\n",
       "   subject_with_emoji subject_with_bonuses subject_with_discount  \\\n",
       "7                True                False                 False   \n",
       "8                True                False                 False   \n",
       "11               True                False                 False   \n",
       "\n",
       "   subject_with_saleout  is_test  position  \n",
       "7                 False     True      <NA>  \n",
       "8                 False     True      <NA>  \n",
       "11                False     True      <NA>  "
      ]
     },
     "execution_count": 6,
     "metadata": {},
     "output_type": "execute_result"
    }
   ],
   "source": [
    "campaigns_df[campaigns_df.channel == 'email'].head(3)  # Lọc ra 3 dòng đầu tiên có channel là 'email'"
   ]
  },
  {
   "cell_type": "markdown",
   "id": "1fc9b9d4",
   "metadata": {
    "execution": {
     "iopub.execute_input": "2023-06-11T13:10:34.183035Z",
     "iopub.status.busy": "2023-06-11T13:10:34.182638Z",
     "iopub.status.idle": "2023-06-11T13:10:34.192525Z",
     "shell.execute_reply": "2023-06-11T13:10:34.191171Z",
     "shell.execute_reply.started": "2023-06-11T13:10:34.183005Z"
    },
    "papermill": {
     "duration": 0.016305,
     "end_time": "2023-06-11T13:42:17.687140",
     "exception": false,
     "start_time": "2023-06-11T13:42:17.670835",
     "status": "completed"
    },
    "tags": []
   },
   "source": [
    "### Mobile push and web push\n",
    "\n",
    "Cả hai kênh này đều có tiêu đề (first line of a message) và nội dung tùy chọn (some browsers display it, some browsers don't). Những kênh này không có một số sự kiện như khiếu nại spam, lỗi mềm (soft bounce) hay hủy đăng ký.\n",
    "\n",
    "Có vẻ như nhà bán lẻ này không sử dụng web push.\n",
    "\n",
    "### SMS\n",
    "\n",
    "SMS không có tiêu đề, chỉ có nội dung (tin nhắn văn bản) và có ít sự kiện nhất: giao tin(deliver), nhấp (click), mua hàng(purchase), lỗi trả lại (hard bounce).\n",
    "\n",
    "### Đa Kênh(Multichannel)\n",
    "\n",
    "Đây là một loại chiến dịch giao dịch (transactional campaign) khi nhà bán lẻ cố gắng gửi thông tin quan trọng qua kênh rẻ nhất đến kênh đắt tiền hơn, tùy thuộc vào kênh mà người nhận sử dụng. Ví dụ, chuỗi chiến dịch có thể như sau:\n",
    "\n",
    "1. Thử gửi email\n",
    "2. Nếu không có email, gửi mobile push\n",
    "3. Nếu không có mobile push, gửi web push\n",
    "4. Nếu không có web push, gửi SMS"
   ]
  },
  {
   "cell_type": "markdown",
   "id": "7cf4c919",
   "metadata": {
    "editable": false,
    "papermill": {
     "duration": 0.016122,
     "end_time": "2023-06-11T13:42:17.719804",
     "exception": false,
     "start_time": "2023-06-11T13:42:17.703682",
     "status": "completed"
    },
    "tags": []
   },
   "source": [
    "Danh sách các kênh được sử dụng bởi Nhà bán lẻ:"
   ]
  },
  {
   "cell_type": "code",
   "execution_count": 7,
   "id": "c7f973ca",
   "metadata": {
    "editable": false,
    "execution": {
     "iopub.execute_input": "2023-06-11T13:42:17.754736Z",
     "iopub.status.busy": "2023-06-11T13:42:17.754233Z",
     "iopub.status.idle": "2023-06-11T13:42:17.765066Z",
     "shell.execute_reply": "2023-06-11T13:42:17.763822Z"
    },
    "papermill": {
     "duration": 0.031584,
     "end_time": "2023-06-11T13:42:17.767834",
     "exception": false,
     "start_time": "2023-06-11T13:42:17.736250",
     "status": "completed"
    },
    "tags": []
   },
   "outputs": [
    {
     "data": {
      "text/plain": [
       "channel\n",
       "mobile_push     1396\n",
       "email            483\n",
       "multichannel      27\n",
       "sms                1\n",
       "Name: count, dtype: int64"
      ]
     },
     "execution_count": 7,
     "metadata": {},
     "output_type": "execute_result"
    }
   ],
   "source": [
    "campaigns_df['channel'].value_counts(dropna=False)  # Đếm số lượng các giá trị khác nhau trong cột channel"
   ]
  },
  {
   "cell_type": "markdown",
   "id": "b30c355e",
   "metadata": {
    "papermill": {
     "duration": 0.016472,
     "end_time": "2023-06-11T13:42:17.801154",
     "exception": false,
     "start_time": "2023-06-11T13:42:17.784682",
     "status": "completed"
    },
    "tags": []
   },
   "source": [
    "## Các Loại Chiến Dịch(Campaign types)\n",
    "\n",
    "Có 3 loại chiến dịch trong bộ dữ liệu:\n",
    "\n",
    "1. Chiến Dịch Gửi Hàng Loạt (Bulk Campaign):\n",
    "\n",
    "Các chiến dịch này thường được gửi đến nhiều phân khúc (danh sách người nhận) được nhóm lại theo một số điều kiện nhất định. Ví dụ: \"khách truy cập chưa nhận bất kỳ chiến dịch gửi hàng loạt nào trong 3 tháng qua\" hoặc các tiêu chí kinh doanh khác.\n",
    "\n",
    "2. Chiến Dịch Kích Hoạt (Trigger Campaign):\n",
    "\n",
    "Đây là những tin nhắn 1:1 được gửi dưới dạng phản ứng đối với hoạt động của người dùng. Ví dụ nổi bật nhất là abandoned cart (giỏ hàng bỏ quên): nếu người dùng thêm sản phẩm vào giỏ hàng nhưng không mua trong vòng 2 giờ sau sự kiện add to cart cuối cùng, chiến dịch kích hoạt abandoned cart sẽ cố gắng gửi tin nhắn qua các kênh mà người nhận đã đăng ký.\n",
    "\n",
    "3. Chiến Dịch Giao Dịch (Transactional Campaign):\n",
    "\n",
    "Đây là những tin nhắn mang tính thông tin như mật khẩu một lần `one-time password`, xác nhận email`email confirmation`, thưởng đã được thêm vào tài khoản của bạn`bonuses added to your account`, v.v. Các chiến dịch này có thể là đa kênh (multichannel) hoặc thuộc bất kỳ kênh nào như email, web push, v.v.\n",
    "\n",
    "Sự khác biệt giữa chiến dịch Bulk và hai loại chiến dịch còn lại:\n",
    "\n",
    "1. Chiến dịch gửi hàng loạt (Bulk campaign) có thể chỉ được gửi một lần.\n",
    "2. Chiến dịch kích hoạt (Triggers) và chiến dịch giao dịch (Transactionals) có thể hoạt động mãi mãi.\n",
    "\n",
    "Vì vậy, bộ dữ liệu có rất nhiều chiến dịch gửi hàng loạt và ít chiến dịch loại khác."
   ]
  },
  {
   "cell_type": "code",
   "execution_count": 8,
   "id": "278f8d7a",
   "metadata": {
    "editable": false,
    "execution": {
     "iopub.execute_input": "2023-06-11T13:42:17.838524Z",
     "iopub.status.busy": "2023-06-11T13:42:17.838018Z",
     "iopub.status.idle": "2023-06-11T13:42:17.848016Z",
     "shell.execute_reply": "2023-06-11T13:42:17.846720Z"
    },
    "papermill": {
     "duration": 0.031967,
     "end_time": "2023-06-11T13:42:17.850738",
     "exception": false,
     "start_time": "2023-06-11T13:42:17.818771",
     "status": "completed"
    },
    "tags": []
   },
   "outputs": [
    {
     "data": {
      "text/plain": [
       "campaign_type\n",
       "bulk             1830\n",
       "transactional      50\n",
       "trigger            27\n",
       "Name: count, dtype: int64"
      ]
     },
     "execution_count": 8,
     "metadata": {},
     "output_type": "execute_result"
    }
   ],
   "source": [
    "campaigns_df['campaign_type'].value_counts(dropna=False)  # Đếm số lượng các giá trị khác nhau trong cột campaign_type"
   ]
  },
  {
   "cell_type": "markdown",
   "id": "6ea9c391",
   "metadata": {
    "papermill": {
     "duration": 0.017823,
     "end_time": "2023-06-11T13:42:17.885375",
     "exception": false,
     "start_time": "2023-06-11T13:42:17.867552",
     "status": "completed"
    },
    "tags": []
   },
   "source": [
    "## Subject, topic and pre-header \n",
    "\n",
    "Tiêu Đề (Subject) là tiêu đề của một tin nhắn.\n",
    "\n",
    "- Trong email, đây là dòng chữ in đậm trong hộp thư đến của bạn.\n",
    "- Trong các chiến dịch push(push campaigns), đây là dòng văn bản chính trong thông báo đẩy(push notification).\n",
    "- SMS không có tiêu đề.\n",
    "\n",
    "Pre-header là văn bản xem trước trong hộp thư đến của bạn. Thường thì nó không nổi bật và chỉ hiển thị một phần nội dung tin nhắn. Pre-header chỉ hoạt động đối với email.\n",
    "\n",
    "Example:\n",
    "\n",
    "![Subject and pre-header](https://storage.yandexcloud.net/r46-data/pictures-for-datasets/subject.png)"
   ]
  },
  {
   "cell_type": "markdown",
   "id": "50cde81f",
   "metadata": {
    "editable": false,
    "papermill": {
     "duration": 0.017576,
     "end_time": "2023-06-11T13:42:17.921381",
     "exception": false,
     "start_time": "2023-06-11T13:42:17.903805",
     "status": "completed"
    },
    "tags": []
   },
   "source": [
    "Chủ Đề (Topic) của Chiến Dịch Gửi Hàng Loạt:"
   ]
  },
  {
   "cell_type": "code",
   "execution_count": 9,
   "id": "64bae541",
   "metadata": {
    "editable": false,
    "execution": {
     "iopub.execute_input": "2023-06-11T13:42:17.958024Z",
     "iopub.status.busy": "2023-06-11T13:42:17.957590Z",
     "iopub.status.idle": "2023-06-11T13:42:17.968182Z",
     "shell.execute_reply": "2023-06-11T13:42:17.966722Z"
    },
    "papermill": {
     "duration": 0.032338,
     "end_time": "2023-06-11T13:42:17.971089",
     "exception": false,
     "start_time": "2023-06-11T13:42:17.938751",
     "status": "completed"
    },
    "tags": []
   },
   "outputs": [
    {
     "data": {
      "text/plain": [
       "topic\n",
       "sale out                      779\n",
       "happy birthday                332\n",
       "offer after purchase          316\n",
       "leave review                  287\n",
       "event                          63\n",
       "NaN                            30\n",
       "welcome campaign               27\n",
       "order ready for pickup         10\n",
       "order shipped                  10\n",
       "order created                  10\n",
       "order reminder                  9\n",
       "abandoned cart                  6\n",
       "order pickup still pending      4\n",
       "abandoned view                  3\n",
       "abandoned search                2\n",
       "added to wish list              2\n",
       "abandoned category              2\n",
       "subscribed                      2\n",
       "order cancelled                 2\n",
       "price drop                      2\n",
       "removed from wish list          1\n",
       "back in stock                   1\n",
       "double opt in                   1\n",
       "user added to segment           1\n",
       "recent purchase                 1\n",
       "bonuses expired                 1\n",
       "welcome letter                  1\n",
       "profile updated                 1\n",
       "wish list status                1\n",
       "Name: count, dtype: int64"
      ]
     },
     "execution_count": 9,
     "metadata": {},
     "output_type": "execute_result"
    }
   ],
   "source": [
    "campaigns_df['topic'].value_counts(dropna=False)  # Đếm số lượng các giá trị khác nhau trong cột topic"
   ]
  },
  {
   "cell_type": "markdown",
   "id": "9a4b6ecc",
   "metadata": {
    "papermill": {
     "duration": 0.016808,
     "end_time": "2023-06-11T13:42:18.005501",
     "exception": false,
     "start_time": "2023-06-11T13:42:17.988693",
     "status": "completed"
    },
    "tags": []
   },
   "source": [
    "## Subject characteristics\n",
    "\n",
    "Do yêu cầu về bảo mật và ẩn danh dữ liệu, chúng tôi không thể cung cấp tiêu đề thực tế của các chiến dịch. Thay vào đó, chúng tôi đã chuẩn bị một số đặc điểm của tiêu đề chiến dịch:"
   ]
  },
  {
   "cell_type": "code",
   "execution_count": 10,
   "id": "2b1e96f7",
   "metadata": {
    "editable": false,
    "execution": {
     "iopub.execute_input": "2023-06-11T13:42:18.042998Z",
     "iopub.status.busy": "2023-06-11T13:42:18.042536Z",
     "iopub.status.idle": "2023-06-11T13:42:18.063029Z",
     "shell.execute_reply": "2023-06-11T13:42:18.061113Z"
    },
    "papermill": {
     "duration": 0.044195,
     "end_time": "2023-06-11T13:42:18.067739",
     "exception": false,
     "start_time": "2023-06-11T13:42:18.023544",
     "status": "completed"
    },
    "tags": []
   },
   "outputs": [
    {
     "data": {
      "text/html": [
       "<div>\n",
       "<style scoped>\n",
       "    .dataframe tbody tr th:only-of-type {\n",
       "        vertical-align: middle;\n",
       "    }\n",
       "\n",
       "    .dataframe tbody tr th {\n",
       "        vertical-align: top;\n",
       "    }\n",
       "\n",
       "    .dataframe thead th {\n",
       "        text-align: right;\n",
       "    }\n",
       "</style>\n",
       "<table border=\"1\" class=\"dataframe\">\n",
       "  <thead>\n",
       "    <tr style=\"text-align: right;\">\n",
       "      <th></th>\n",
       "      <th>topic</th>\n",
       "      <th>subject_length</th>\n",
       "      <th>subject_with_personalization</th>\n",
       "      <th>subject_with_deadline</th>\n",
       "      <th>subject_with_emoji</th>\n",
       "      <th>subject_with_bonuses</th>\n",
       "      <th>subject_with_discount</th>\n",
       "      <th>subject_with_saleout</th>\n",
       "    </tr>\n",
       "  </thead>\n",
       "  <tbody>\n",
       "    <tr>\n",
       "      <th>0</th>\n",
       "      <td>sale out</td>\n",
       "      <td>146</td>\n",
       "      <td>False</td>\n",
       "      <td>False</td>\n",
       "      <td>True</td>\n",
       "      <td>False</td>\n",
       "      <td>False</td>\n",
       "      <td>False</td>\n",
       "    </tr>\n",
       "    <tr>\n",
       "      <th>1</th>\n",
       "      <td>sale out</td>\n",
       "      <td>97</td>\n",
       "      <td>False</td>\n",
       "      <td>False</td>\n",
       "      <td>True</td>\n",
       "      <td>False</td>\n",
       "      <td>False</td>\n",
       "      <td>False</td>\n",
       "    </tr>\n",
       "    <tr>\n",
       "      <th>2</th>\n",
       "      <td>sale out</td>\n",
       "      <td>146</td>\n",
       "      <td>False</td>\n",
       "      <td>False</td>\n",
       "      <td>True</td>\n",
       "      <td>False</td>\n",
       "      <td>False</td>\n",
       "      <td>False</td>\n",
       "    </tr>\n",
       "    <tr>\n",
       "      <th>3</th>\n",
       "      <td>sale out</td>\n",
       "      <td>97</td>\n",
       "      <td>False</td>\n",
       "      <td>False</td>\n",
       "      <td>True</td>\n",
       "      <td>False</td>\n",
       "      <td>False</td>\n",
       "      <td>False</td>\n",
       "    </tr>\n",
       "    <tr>\n",
       "      <th>4</th>\n",
       "      <td>NaN</td>\n",
       "      <td>109</td>\n",
       "      <td>False</td>\n",
       "      <td>True</td>\n",
       "      <td>True</td>\n",
       "      <td>False</td>\n",
       "      <td>False</td>\n",
       "      <td>False</td>\n",
       "    </tr>\n",
       "  </tbody>\n",
       "</table>\n",
       "</div>"
      ],
      "text/plain": [
       "      topic  subject_length subject_with_personalization  \\\n",
       "0  sale out             146                        False   \n",
       "1  sale out              97                        False   \n",
       "2  sale out             146                        False   \n",
       "3  sale out              97                        False   \n",
       "4       NaN             109                        False   \n",
       "\n",
       "  subject_with_deadline subject_with_emoji subject_with_bonuses  \\\n",
       "0                 False               True                False   \n",
       "1                 False               True                False   \n",
       "2                 False               True                False   \n",
       "3                 False               True                False   \n",
       "4                  True               True                False   \n",
       "\n",
       "  subject_with_discount subject_with_saleout  \n",
       "0                 False                False  \n",
       "1                 False                False  \n",
       "2                 False                False  \n",
       "3                 False                False  \n",
       "4                 False                False  "
      ]
     },
     "execution_count": 10,
     "metadata": {},
     "output_type": "execute_result"
    }
   ],
   "source": [
    "# Lọc các cột liên quan đến đặc điểm của email\n",
    "campaigns_df[ ['topic', 'subject_length', 'subject_with_personalization', 'subject_with_deadline', 'subject_with_emoji', 'subject_with_bonuses', 'subject_with_discount', 'subject_with_saleout' ] ].head()"
   ]
  },
  {
   "cell_type": "code",
   "execution_count": 11,
   "id": "cece9f5e",
   "metadata": {
    "execution": {
     "iopub.execute_input": "2023-06-11T13:42:18.106256Z",
     "iopub.status.busy": "2023-06-11T13:42:18.105335Z",
     "iopub.status.idle": "2023-06-11T13:42:18.116325Z",
     "shell.execute_reply": "2023-06-11T13:42:18.114600Z"
    },
    "papermill": {
     "duration": 0.033786,
     "end_time": "2023-06-11T13:42:18.119693",
     "exception": false,
     "start_time": "2023-06-11T13:42:18.085907",
     "status": "completed"
    },
    "tags": []
   },
   "outputs": [
    {
     "data": {
      "text/plain": [
       "['id',\n",
       " 'campaign_type',\n",
       " 'channel',\n",
       " 'topic',\n",
       " 'started_at',\n",
       " 'finished_at',\n",
       " 'total_count',\n",
       " 'ab_test',\n",
       " 'warmup_mode',\n",
       " 'hour_limit',\n",
       " 'subject_length',\n",
       " 'subject_with_personalization',\n",
       " 'subject_with_deadline',\n",
       " 'subject_with_emoji',\n",
       " 'subject_with_bonuses',\n",
       " 'subject_with_discount',\n",
       " 'subject_with_saleout',\n",
       " 'is_test',\n",
       " 'position']"
      ]
     },
     "execution_count": 11,
     "metadata": {},
     "output_type": "execute_result"
    }
   ],
   "source": [
    "list(campaigns_df.columns)"
   ]
  },
  {
   "cell_type": "markdown",
   "id": "40655a50",
   "metadata": {
    "editable": false,
    "papermill": {
     "duration": 0.0175,
     "end_time": "2023-06-11T13:42:18.155319",
     "exception": false,
     "start_time": "2023-06-11T13:42:18.137819",
     "status": "completed"
    },
    "tags": []
   },
   "source": [
    "Các Đặc Tính của Tiêu Đề:\n",
    "\n",
    "* `subject_length` - Độ dài của tiêu đề tính bằng ký tự (đôi khi tỷ lệ mở có thể phụ thuộc vào độ dài của tiêu đề).\n",
    "* `subject_with_personalization` - Tiêu đề có sự cá nhân hóa. Example: \"Hello, **John Wick**, there is the special delivery for you!\"\n",
    "* `subject_with_deadline` - Tiêu đề có thông tin về thời hạn. Example: \"Hey, John Wick! Only **4 days left** when you can get your special delivery!\"\n",
    "* `subject_with_emoji` - Tiêu đề có biểu tượng cảm xúc. Example: \"Hello, John Wick, there is the special delivery for you 😵🍺\"\n",
    "* `subject_with_bonuses` - Tiêu đề có biểu tượng cảm xúc. Example: \"Hey, John Wick! We added **300 gold** coins to your bonus account!\"\n",
    "* `subject_with_discount` - Tiêu đề có thông tin về giảm giá. Example: \"Hey, John Wick! **40% discount** in Continental for a low season!\"\n",
    "* `subject_with_saleout` - Tiêu đề thông báo một đợt giảm giá. Example: \"Hey, John Wick! **Black Friday** is coming!\"\n",
    "\n",
    "Bạn có thể phân tích cách các đặc tính này liên quan đến tỷ lệ chuyển đổi cuối cùng hoặc các chỉ số khác."
   ]
  },
  {
   "cell_type": "markdown",
   "id": "7b164890",
   "metadata": {
    "papermill": {
     "duration": 0.018901,
     "end_time": "2023-06-11T13:42:18.193703",
     "exception": false,
     "start_time": "2023-06-11T13:42:18.174802",
     "status": "completed"
    },
    "tags": []
   },
   "source": [
    "## Dates and other bulk characteristics\n",
    "\n",
    "Chỉ có chiến dịch gửi hàng loạt (bulk campaigns) mới có ngày bắt đầu(start date) và ngày kết thúc(finish date).\n",
    "\n",
    "Ngày bắt đầu (Start date) là ngày/giờ (theo múi giờ địa phương) khi chiến dịch được triển khai bởi chuyên gia marketing.\n",
    "\n",
    "Ngày kết thúc (Finish date) là ngày/giờ khi chiến dịch gửi tin nhắn cuối cùng.\n",
    "\n",
    "Thường thì, việc gửi các chiến dịch có quy mô nhỏ đến lớn mất từ 30 phút đến 4 giờ. Tuy nhiên, một số chiến dịch (chiến dịch khởi động warmup campaigns) có thể kéo dài vài ngày hoặc vài tuần. Điều này thường xảy ra khi nhà bán lẻ có cơ sở dữ liệu người nhận mới và không muốn bị các nhà cung cấp dịch vụ email chặn vì tỷ lệ hard bounce hoặc khiếu nại spam cao (xem phần Messages).\n",
    "\n",
    "Trong trường hợp này, chiến dịch sẽ có `warmup_mode=True` và giá trị `hour_limit` để chỉ định số lượng tin nhắn có thể gửi mỗi giờ.\n",
    "\n",
    "- Giá trị thông thường của hour_limit là `500` hoặc `1000`. Nhưng đôi khi, khi `mailing domain` đã được \"khởi động\" (tức là đã có được sự tin tưởng từ các nhà cung cấp dịch vụ email), giới hạn này có thể được tăng lên thành các giá trị lớn để hoàn thành chiến dịch nhanh hơn.\n",
    "\n",
    "- `total_recipients` chỉ số này cho biết tổng số người nhận trong chiến dịch gửi hàng loạt khi chiến dịch được triển khai. Chiến dịch kích hoạt (trigger) và chiến dịch giao dịch (transactional) không có giá trị này."
   ]
  },
  {
   "cell_type": "code",
   "execution_count": 12,
   "id": "38e22857",
   "metadata": {
    "execution": {
     "iopub.execute_input": "2023-06-11T13:42:18.232256Z",
     "iopub.status.busy": "2023-06-11T13:42:18.231855Z",
     "iopub.status.idle": "2023-06-11T13:42:18.253898Z",
     "shell.execute_reply": "2023-06-11T13:42:18.252975Z"
    },
    "papermill": {
     "duration": 0.044394,
     "end_time": "2023-06-11T13:42:18.256112",
     "exception": false,
     "start_time": "2023-06-11T13:42:18.211718",
     "status": "completed"
    },
    "tags": []
   },
   "outputs": [
    {
     "data": {
      "text/html": [
       "<div>\n",
       "<style scoped>\n",
       "    .dataframe tbody tr th:only-of-type {\n",
       "        vertical-align: middle;\n",
       "    }\n",
       "\n",
       "    .dataframe tbody tr th {\n",
       "        vertical-align: top;\n",
       "    }\n",
       "\n",
       "    .dataframe thead th {\n",
       "        text-align: right;\n",
       "    }\n",
       "</style>\n",
       "<table border=\"1\" class=\"dataframe\">\n",
       "  <thead>\n",
       "    <tr style=\"text-align: right;\">\n",
       "      <th></th>\n",
       "      <th>started_at</th>\n",
       "      <th>finished_at</th>\n",
       "      <th>total_count</th>\n",
       "      <th>warmup_mode</th>\n",
       "      <th>hour_limit</th>\n",
       "    </tr>\n",
       "  </thead>\n",
       "  <tbody>\n",
       "    <tr>\n",
       "      <th>58</th>\n",
       "      <td>2021-06-29 14:00:13.752337</td>\n",
       "      <td>2021-06-29 17:02:36</td>\n",
       "      <td>613004</td>\n",
       "      <td>True</td>\n",
       "      <td>200000</td>\n",
       "    </tr>\n",
       "    <tr>\n",
       "      <th>257</th>\n",
       "      <td>2021-11-24 07:03:20.136238</td>\n",
       "      <td>2021-11-24 14:31:56</td>\n",
       "      <td>5327892</td>\n",
       "      <td>True</td>\n",
       "      <td>1000000</td>\n",
       "    </tr>\n",
       "    <tr>\n",
       "      <th>278</th>\n",
       "      <td>2021-12-03 06:04:29.576983</td>\n",
       "      <td>2021-12-03 09:44:29</td>\n",
       "      <td>35981</td>\n",
       "      <td>True</td>\n",
       "      <td>10000</td>\n",
       "    </tr>\n",
       "    <tr>\n",
       "      <th>297</th>\n",
       "      <td>2021-12-13 06:41:39.498379</td>\n",
       "      <td>2021-12-13 10:57:06</td>\n",
       "      <td>28759</td>\n",
       "      <td>True</td>\n",
       "      <td>10000</td>\n",
       "    </tr>\n",
       "    <tr>\n",
       "      <th>692</th>\n",
       "      <td>2022-06-07 11:12:59.694535</td>\n",
       "      <td>2022-06-09 07:36:13</td>\n",
       "      <td>91225</td>\n",
       "      <td>True</td>\n",
       "      <td>4000</td>\n",
       "    </tr>\n",
       "  </tbody>\n",
       "</table>\n",
       "</div>"
      ],
      "text/plain": [
       "                    started_at         finished_at  total_count  warmup_mode  \\\n",
       "58  2021-06-29 14:00:13.752337 2021-06-29 17:02:36       613004         True   \n",
       "257 2021-11-24 07:03:20.136238 2021-11-24 14:31:56      5327892         True   \n",
       "278 2021-12-03 06:04:29.576983 2021-12-03 09:44:29        35981         True   \n",
       "297 2021-12-13 06:41:39.498379 2021-12-13 10:57:06        28759         True   \n",
       "692 2022-06-07 11:12:59.694535 2022-06-09 07:36:13        91225         True   \n",
       "\n",
       "     hour_limit  \n",
       "58       200000  \n",
       "257     1000000  \n",
       "278       10000  \n",
       "297       10000  \n",
       "692        4000  "
      ]
     },
     "execution_count": 12,
     "metadata": {},
     "output_type": "execute_result"
    }
   ],
   "source": [
    "# Đổi kiểu dữ liệu của cột hour_limit\n",
    "campaigns_df['hour_limit'] = campaigns_df['hour_limit'].astype('Int64')\n",
    "\n",
    "# Lọc các chiến dịch có hour_limit lớn hơn 0\n",
    "campaigns_df[ campaigns_df['hour_limit'] > 0 ]\\\n",
    "    [ ['started_at', 'finished_at', 'total_count', 'warmup_mode', 'hour_limit'] ].head()"
   ]
  },
  {
   "cell_type": "markdown",
   "id": "4908e440",
   "metadata": {
    "papermill": {
     "duration": 0.018993,
     "end_time": "2023-06-11T13:42:18.293079",
     "exception": false,
     "start_time": "2023-06-11T13:42:18.274086",
     "status": "completed"
    },
    "tags": []
   },
   "source": [
    "## Other service info\n",
    "\n",
    "* `is_test` - Chỉ ra rằng đây là chiến dịch thử nghiệm gửi đến một nhóm đối tượng giới hạn. Bạn có thể bỏ qua những chiến dịch này trong nghiên cứu của mình.\n",
    "* `position` - Vị trí của các chiến dịch kích hoạt (chỉ áp dụng cho chiến dịch trigger). Vì các sự kiện khác nhau có thể kích hoạt các chiến dịch kích hoạt khác nhau, việc kiểm soát số lượng tin nhắn gửi đi là rất quan trọng để tránh tình trạng gửi tin nhắn không kiểm soát (người nhận có thể đánh dấu chiến dịch là spam hoặc hủy đăng ký với nhà bán lẻ). Do đó, có một thứ tự quan trọng từ các chiến dịch kích hoạt quan trọng nhất (vị trí nhỏ hơn là quan trọng hơn) đến các chiến dịch ít quan trọng hơn (vị trí số lớn hơn).\n",
    "\n",
    "- Nếu chiến dịch kích hoạt có vị trí nhỏ hơn có thể được gửi, tất cả các chiến dịch kích hoạt khác sẽ bị bỏ qua.\n",
    "- Nếu không thể gửi chiến dịch có vị trí nhỏ hơn, hệ thống sẽ kiểm tra chiến dịch kích hoạt tiếp theo.\n",
    "- Nếu tất cả các chiến dịch kích hoạt đã được kiểm tra mà không thỏa mãn điều kiện, tin nhắn kích hoạt sẽ không được gửi."
   ]
  },
  {
   "cell_type": "code",
   "execution_count": 13,
   "id": "e3228a83",
   "metadata": {
    "execution": {
     "iopub.execute_input": "2023-06-11T13:42:18.333860Z",
     "iopub.status.busy": "2023-06-11T13:42:18.333396Z",
     "iopub.status.idle": "2023-06-11T13:42:18.352709Z",
     "shell.execute_reply": "2023-06-11T13:42:18.351308Z"
    },
    "papermill": {
     "duration": 0.043197,
     "end_time": "2023-06-11T13:42:18.355206",
     "exception": false,
     "start_time": "2023-06-11T13:42:18.312009",
     "status": "completed"
    },
    "tags": []
   },
   "outputs": [
    {
     "data": {
      "text/html": [
       "<div>\n",
       "<style scoped>\n",
       "    .dataframe tbody tr th:only-of-type {\n",
       "        vertical-align: middle;\n",
       "    }\n",
       "\n",
       "    .dataframe tbody tr th {\n",
       "        vertical-align: top;\n",
       "    }\n",
       "\n",
       "    .dataframe thead th {\n",
       "        text-align: right;\n",
       "    }\n",
       "</style>\n",
       "<table border=\"1\" class=\"dataframe\">\n",
       "  <thead>\n",
       "    <tr style=\"text-align: right;\">\n",
       "      <th></th>\n",
       "      <th>topic</th>\n",
       "      <th>position</th>\n",
       "    </tr>\n",
       "  </thead>\n",
       "  <tbody>\n",
       "    <tr>\n",
       "      <th>1830</th>\n",
       "      <td>abandoned cart</td>\n",
       "      <td>0</td>\n",
       "    </tr>\n",
       "    <tr>\n",
       "      <th>1838</th>\n",
       "      <td>subscribed</td>\n",
       "      <td>0</td>\n",
       "    </tr>\n",
       "    <tr>\n",
       "      <th>1845</th>\n",
       "      <td>subscribed</td>\n",
       "      <td>0</td>\n",
       "    </tr>\n",
       "    <tr>\n",
       "      <th>1843</th>\n",
       "      <td>double opt in</td>\n",
       "      <td>1</td>\n",
       "    </tr>\n",
       "    <tr>\n",
       "      <th>1846</th>\n",
       "      <td>abandoned view</td>\n",
       "      <td>2</td>\n",
       "    </tr>\n",
       "    <tr>\n",
       "      <th>1856</th>\n",
       "      <td>abandoned view</td>\n",
       "      <td>2</td>\n",
       "    </tr>\n",
       "    <tr>\n",
       "      <th>1852</th>\n",
       "      <td>abandoned category</td>\n",
       "      <td>3</td>\n",
       "    </tr>\n",
       "    <tr>\n",
       "      <th>1837</th>\n",
       "      <td>abandoned cart</td>\n",
       "      <td>4</td>\n",
       "    </tr>\n",
       "    <tr>\n",
       "      <th>1839</th>\n",
       "      <td>abandoned cart</td>\n",
       "      <td>4</td>\n",
       "    </tr>\n",
       "    <tr>\n",
       "      <th>1847</th>\n",
       "      <td>abandoned cart</td>\n",
       "      <td>4</td>\n",
       "    </tr>\n",
       "    <tr>\n",
       "      <th>1836</th>\n",
       "      <td>abandoned cart</td>\n",
       "      <td>4</td>\n",
       "    </tr>\n",
       "    <tr>\n",
       "      <th>1851</th>\n",
       "      <td>recent purchase</td>\n",
       "      <td>5</td>\n",
       "    </tr>\n",
       "    <tr>\n",
       "      <th>1849</th>\n",
       "      <td>added to wish list</td>\n",
       "      <td>6</td>\n",
       "    </tr>\n",
       "    <tr>\n",
       "      <th>1848</th>\n",
       "      <td>abandoned search</td>\n",
       "      <td>7</td>\n",
       "    </tr>\n",
       "    <tr>\n",
       "      <th>1853</th>\n",
       "      <td>price drop</td>\n",
       "      <td>8</td>\n",
       "    </tr>\n",
       "    <tr>\n",
       "      <th>1854</th>\n",
       "      <td>price drop</td>\n",
       "      <td>9</td>\n",
       "    </tr>\n",
       "    <tr>\n",
       "      <th>1841</th>\n",
       "      <td>NaN</td>\n",
       "      <td>10</td>\n",
       "    </tr>\n",
       "    <tr>\n",
       "      <th>1842</th>\n",
       "      <td>removed from wish list</td>\n",
       "      <td>13</td>\n",
       "    </tr>\n",
       "    <tr>\n",
       "      <th>1844</th>\n",
       "      <td>NaN</td>\n",
       "      <td>&lt;NA&gt;</td>\n",
       "    </tr>\n",
       "    <tr>\n",
       "      <th>1850</th>\n",
       "      <td>user added to segment</td>\n",
       "      <td>&lt;NA&gt;</td>\n",
       "    </tr>\n",
       "    <tr>\n",
       "      <th>1855</th>\n",
       "      <td>back in stock</td>\n",
       "      <td>&lt;NA&gt;</td>\n",
       "    </tr>\n",
       "  </tbody>\n",
       "</table>\n",
       "</div>"
      ],
      "text/plain": [
       "                       topic  position\n",
       "1830          abandoned cart         0\n",
       "1838              subscribed         0\n",
       "1845              subscribed         0\n",
       "1843           double opt in         1\n",
       "1846          abandoned view         2\n",
       "1856          abandoned view         2\n",
       "1852      abandoned category         3\n",
       "1837          abandoned cart         4\n",
       "1839          abandoned cart         4\n",
       "1847          abandoned cart         4\n",
       "1836          abandoned cart         4\n",
       "1851         recent purchase         5\n",
       "1849      added to wish list         6\n",
       "1848        abandoned search         7\n",
       "1853              price drop         8\n",
       "1854              price drop         9\n",
       "1841                     NaN        10\n",
       "1842  removed from wish list        13\n",
       "1844                     NaN      <NA>\n",
       "1850   user added to segment      <NA>\n",
       "1855           back in stock      <NA>"
      ]
     },
     "execution_count": 13,
     "metadata": {},
     "output_type": "execute_result"
    }
   ],
   "source": [
    "# Lọc ra các chiến dịch trigger\n",
    "triggers_df = campaigns_df[ campaigns_df['campaign_type'] == 'trigger' ]\n",
    "\n",
    "# Loại bỏ các chiến dịch là test\n",
    "triggers_df = triggers_df[ ~triggers_df['is_test'] == True ]\n",
    "\n",
    "# Sắp xếp các chiến dịch trigger theo cột position\n",
    "triggers_df[['topic', 'position']].sort_values(by='position', ascending=True)"
   ]
  },
  {
   "cell_type": "markdown",
   "id": "a1f5960f",
   "metadata": {
    "papermill": {
     "duration": 0.017994,
     "end_time": "2023-06-11T13:42:18.391696",
     "exception": false,
     "start_time": "2023-06-11T13:42:18.373702",
     "status": "completed"
    },
    "tags": []
   },
   "source": [
    "# Messages\n",
    "\n",
    "Mỗi dòng tin nhắn đại diện cho một tin nhắn cá nhân được gửi đến một người nhận duy nhất. Nó chứa các thông tin về loại tin nhắn, kênh gửi tin, người nhận và một số chỉ số (metrics) được mô tả dưới đây.\n"
   ]
  },
  {
   "cell_type": "code",
   "execution_count": 14,
   "id": "32398db8",
   "metadata": {
    "execution": {
     "iopub.execute_input": "2023-06-11T13:42:18.430730Z",
     "iopub.status.busy": "2023-06-11T13:42:18.430245Z",
     "iopub.status.idle": "2023-06-11T13:44:15.784095Z",
     "shell.execute_reply": "2023-06-11T13:44:15.782835Z"
    },
    "papermill": {
     "duration": 117.377311,
     "end_time": "2023-06-11T13:44:15.787495",
     "exception": false,
     "start_time": "2023-06-11T13:42:18.410184",
     "status": "completed"
    },
    "tags": []
   },
   "outputs": [
    {
     "name": "stderr",
     "output_type": "stream",
     "text": [
      "C:\\Users\\miynzi\\AppData\\Local\\Temp\\ipykernel_20384\\2053711967.py:2: DtypeWarning: Columns (7,8,16,17,19,21,23,25,27,29) have mixed types. Specify dtype option on import or set low_memory=False.\n",
      "  messages_df = pd.read_csv('dataset/messages-demo.csv', index_col='message_id')\n"
     ]
    }
   ],
   "source": [
    "# Đọc dữ liệu từ tệp messages-demo.csv\n",
    "messages_df = pd.read_csv('dataset/messages-demo.csv', index_col='message_id')"
   ]
  },
  {
   "cell_type": "code",
   "execution_count": 15,
   "id": "a7fdf628",
   "metadata": {
    "execution": {
     "iopub.execute_input": "2023-06-11T13:44:15.830641Z",
     "iopub.status.busy": "2023-06-11T13:44:15.829246Z",
     "iopub.status.idle": "2023-06-11T13:44:15.838130Z",
     "shell.execute_reply": "2023-06-11T13:44:15.836930Z"
    },
    "papermill": {
     "duration": 0.034351,
     "end_time": "2023-06-11T13:44:15.841158",
     "exception": false,
     "start_time": "2023-06-11T13:44:15.806807",
     "status": "completed"
    },
    "tags": []
   },
   "outputs": [
    {
     "data": {
      "text/plain": [
       "['id',\n",
       " 'campaign_id',\n",
       " 'message_type',\n",
       " 'client_id',\n",
       " 'channel',\n",
       " 'category',\n",
       " 'platform',\n",
       " 'email_provider',\n",
       " 'stream',\n",
       " 'date',\n",
       " 'sent_at',\n",
       " 'is_opened',\n",
       " 'opened_first_time_at',\n",
       " 'opened_last_time_at',\n",
       " 'is_clicked',\n",
       " 'clicked_first_time_at',\n",
       " 'clicked_last_time_at',\n",
       " 'is_unsubscribed',\n",
       " 'unsubscribed_at',\n",
       " 'is_hard_bounced',\n",
       " 'hard_bounced_at',\n",
       " 'is_soft_bounced',\n",
       " 'soft_bounced_at',\n",
       " 'is_complained',\n",
       " 'complained_at',\n",
       " 'is_blocked',\n",
       " 'blocked_at',\n",
       " 'is_purchased',\n",
       " 'purchased_at',\n",
       " 'created_at',\n",
       " 'updated_at']"
      ]
     },
     "execution_count": 15,
     "metadata": {},
     "output_type": "execute_result"
    }
   ],
   "source": [
    "# Hiển thị danh sách các cột trong messages_df\n",
    "list(messages_df.columns)"
   ]
  },
  {
   "cell_type": "code",
   "execution_count": 16,
   "id": "2e9b5981",
   "metadata": {
    "execution": {
     "iopub.execute_input": "2023-06-11T13:44:15.887076Z",
     "iopub.status.busy": "2023-06-11T13:44:15.885533Z",
     "iopub.status.idle": "2023-06-11T13:44:20.499214Z",
     "shell.execute_reply": "2023-06-11T13:44:20.497905Z"
    },
    "papermill": {
     "duration": 4.640357,
     "end_time": "2023-06-11T13:44:20.502237",
     "exception": false,
     "start_time": "2023-06-11T13:44:15.861880",
     "status": "completed"
    },
    "tags": []
   },
   "outputs": [],
   "source": [
    "# Xóa các cột không cần thiết trong messages_df\n",
    "messages_df.drop(labels=['id', 'created_at', 'updated_at', 'category'], inplace=True, axis=1)"
   ]
  },
  {
   "cell_type": "code",
   "execution_count": 17,
   "id": "8d3df6a7",
   "metadata": {
    "execution": {
     "iopub.execute_input": "2023-06-11T13:44:20.553513Z",
     "iopub.status.busy": "2023-06-11T13:44:20.552583Z",
     "iopub.status.idle": "2023-06-11T13:46:11.601242Z",
     "shell.execute_reply": "2023-06-11T13:46:11.599251Z"
    },
    "papermill": {
     "duration": 111.07965,
     "end_time": "2023-06-11T13:46:11.605793",
     "exception": false,
     "start_time": "2023-06-11T13:44:20.526143",
     "status": "completed"
    },
    "tags": []
   },
   "outputs": [],
   "source": [
    "# Đổi kiểu dữ liệu cho các cột trong messages_df\n",
    "messages_df['campaign_id'] = messages_df['campaign_id'].astype('Int64')\n",
    "messages_df['client_id'] = messages_df['client_id'].astype('Int64')\n",
    "\n",
    "# Chuyển đổi các giá trị trong các cột boolean thành kiểu True/False\n",
    "def convert_to_bool(value):\n",
    "    if value == 't':\n",
    "        return True\n",
    "    else:\n",
    "        return False\n",
    "\n",
    "# Áp dụng hàm convert_to_bool cho các cột trong messages_df\n",
    "messages_df['is_opened']       = messages_df['is_opened'].apply(convert_to_bool)\n",
    "messages_df['is_clicked']      = messages_df['is_clicked'].apply(convert_to_bool)\n",
    "messages_df['is_unsubscribed'] = messages_df['is_unsubscribed'].apply(convert_to_bool)\n",
    "messages_df['is_hard_bounced'] = messages_df['is_hard_bounced'].apply(convert_to_bool)\n",
    "messages_df['is_soft_bounced'] = messages_df['is_soft_bounced'].apply(convert_to_bool)\n",
    "messages_df['is_complained']   = messages_df['is_complained'].apply(convert_to_bool)\n",
    "messages_df['is_blocked']      = messages_df['is_blocked'].apply(convert_to_bool)\n",
    "messages_df['is_purchased']    = messages_df['is_purchased'].apply(convert_to_bool)\n",
    "\n",
    "# Chuyển đổi các cột thời gian thành kiểu datetime\n",
    "messages_df['date']                  = pd.to_datetime(messages_df['date'])\n",
    "messages_df['sent_at']               = pd.to_datetime(messages_df['sent_at'])\n",
    "messages_df['opened_first_time_at']  = pd.to_datetime(messages_df['opened_first_time_at'])\n",
    "messages_df['opened_last_time_at']   = pd.to_datetime(messages_df['opened_last_time_at'])\n",
    "messages_df['clicked_first_time_at'] = pd.to_datetime(messages_df['clicked_first_time_at'])\n",
    "messages_df['clicked_last_time_at']  = pd.to_datetime(messages_df['clicked_last_time_at'])\n",
    "messages_df['unsubscribed_at']       = pd.to_datetime(messages_df['unsubscribed_at'])\n",
    "messages_df['hard_bounced_at']       = pd.to_datetime(messages_df['hard_bounced_at'])\n",
    "messages_df['soft_bounced_at']       = pd.to_datetime(messages_df['soft_bounced_at'])\n",
    "messages_df['complained_at']         = pd.to_datetime(messages_df['complained_at'])\n",
    "messages_df['blocked_at']            = pd.to_datetime(messages_df['blocked_at'])\n",
    "messages_df['purchased_at']          = pd.to_datetime(messages_df['purchased_at'])"
   ]
  },
  {
   "cell_type": "markdown",
   "id": "3316ea4e",
   "metadata": {
    "papermill": {
     "duration": 0.020027,
     "end_time": "2023-06-11T13:46:11.646675",
     "exception": false,
     "start_time": "2023-06-11T13:46:11.626648",
     "status": "completed"
    },
    "tags": []
   },
   "source": [
    "### Columns description\n",
    "\n",
    "Các cột trong bảng dữ liệu được nhóm theo ý nghĩa:\n",
    "\n",
    "* Thông Tin Chiến Dịch:\n",
    " * `campaign_id` - Mã nhận dạng chiến dịch từ bảng `campaigns`.\n",
    " * `message_type` - loại tin nhắn (gửi hàng loạt, kích hoạt, giao dịch).\n",
    " * `channel` - Kênh gửi tin nhắn. Lưu ý: không có loại tin nhắn `multichannel` như trong bảng `campaigns`, vì chiến dịch có thể đa kênh (gửi tin nhắn qua nhiều kênh khác nhau), nhưng tin nhắn thuộc về một kênh duy nhất.\n",
    "\n",
    " \n",
    "* Thông Tin Người Nhận:\n",
    " * `client_id` -  Mã người nhận trong cơ sở dữ liệu REES46 (duy nhất cho mỗi người dùng).\n",
    " * `email_provider` - Phần tên miền của email (đối với các tin nhắn email) như `gmail.com` or `hotmail.com`. Có thể là NA: dữ liệu đã bị xóa đối với các tên miền cá nhân hoặc công ty với số lượng tin nhắn ít, nhằm tránh nhận dạng cá nhân.\n",
    " \n",
    "* Thông Tin Thiết Bị:\n",
    " * `platform` - Loại nền tảng mà tin nhắn đã được mở (nếu có). Điều này được xác định tự động theo `user-agent` hoặc thông tin dịch vụ khác. Ví dụ `smartphone`, `tablet`, `phablet`.\n",
    " * `stream` - Giá trị chuỗi của loại thiết bị (desktop, ios, android, v.v.) nơi tin nhắn đã được mở (nếu có). Điều này được xác định bởi nhà phát triển ứng dụng phía nhà bán lẻ khi họ tích hợp SDK.\n",
    " \n",
    "* Hành Vi:\n",
    " * `date` - Ngày theo định dạng YYYY-MM-DD khi tin nhắn được gửi. Đây là phần của thuộc tính thời gian `sent_at` giúp nhóm các tin nhắn theo ngày.\n",
    " * `sent_at` - Thời gian gửi tin nhắn..\n",
    " * `is_opened` - Cờ boolean cho biết tin nhắn đã được người nhận mở chưa.\n",
    " * `opened_first_time_at` - Thời gian lần đầu tiên tin nhắn được mở.\n",
    " * `opened_last_time_at` - Thời gian lần cuối cùng tin nhắn được mở (có thể giống với `opened_first_time_at`, nếu tin nhắn chỉ được mở một lần).\n",
    " * `is_clicked` - Cờ boolean cho biết tin nhắn đã được người nhận nhấp vào chưa.\n",
    " * `clicked_first_time_at` - Thời gian lần đầu tiên tin nhắn được nhấp vào.\n",
    " * `clicked_last_time_at` - Thời gian lần cuối cùng tin nhắn được nhấp vào (có thể giống với `clicked_first_time_at`, nếu tin nhắn chỉ được nhấp một lần).\n",
    " * `is_unsubscribed` - Cờ boolean cho biết người nhận đã nhấp vào liên kết `unsubscribe` trong tin nhắn chưa.\n",
    " * `unsubscribed_at` - Thời gian khi người nhận nhấp vào liên kết `unsubscribe` trong tin nhắn.\n",
    " * `is_hard_bounced` - Cờ boolean cho biết tin nhắn bị \"hard bounce\" (sự cố vĩnh viễn trong việc gửi tin nhắn nếu địa chỉ của người nhận không tồn tại, như email không tồn tại hoặc mã thông báo push mobile không hợp lệ).\n",
    " * `hard_bounced_at` -  Thời gian khi tin nhắn bị hard bounce.\n",
    " * `is_soft_bounced` - Cờ boolean cho biết tin nhắn bị \"soft bounce\" (sự cố tạm thời trong việc gửi tin nhắn nếu hộp thư của người nhận không thể nhận tin nhắn trong thời gian ngắn, ví dụ: hộp thư đầy nhưng vẫn có thể nhận tin trong tương lai).\n",
    " * `soft_bounced_at` - Thời gian khi tin nhắn bị soft bounce.\n",
    " * `is_complained` - Cờ boolean cho biết người nhận đã nhấp vào nút `SPAM` trong ứng dụng email chưa.\n",
    " * `complained_at` - Thời gian khi người nhận nhấp vào nút `SPAM` trong ứng dụng email.\n",
    " * `is_blocked` - Cờ boolean cho biết nỗ lực gửi tin nhắn bị tạm thời chặn bởi nhà cung cấp dịch vụ email (như postmaster thông báo \"you act like spammer, I won't deliver your email). Đây không phải là lệnh cấm vĩnh viễn.\n",
    " * `blocked_at` - Thời gian khi nỗ lực gửi tin nhắn bị tạm thời chặn bởi nhà cung cấp dịch vụ email.\n",
    " * `is_purchased` - Cờ boolean cho biết người nhận đã nhấp vào bất kỳ liên kết nào trong tin nhắn, mở website hoặc ứng dụng di động và thực hiện mua hàng.\n",
    " * `purchased_at` - Thời gian khi người nhận thực hiện mua hàng sau khi nhấp vào liên kết trong email hoặc tin nhắn khác.\n"
   ]
  },
  {
   "cell_type": "markdown",
   "id": "3c2b76d9",
   "metadata": {
    "execution": {
     "iopub.execute_input": "2023-05-25T20:42:01.149102Z",
     "iopub.status.busy": "2023-05-25T20:42:01.146728Z",
     "iopub.status.idle": "2023-05-25T20:42:01.156436Z",
     "shell.execute_reply": "2023-05-25T20:42:01.15518Z",
     "shell.execute_reply.started": "2023-05-25T20:42:01.148975Z"
    },
    "papermill": {
     "duration": 0.018511,
     "end_time": "2023-06-11T13:46:11.683612",
     "exception": false,
     "start_time": "2023-06-11T13:46:11.665101",
     "status": "completed"
    },
    "tags": []
   },
   "source": [
    "## Messages overview\n",
    "\n",
    "Lưu ý: Dataframe này chỉ chứa một số lượng hạn chế tin nhắn (chỉ có 10 triệu tin nhắn từ tổng số 721 triệu tin nhắn). Bạn có thể tìm thấy liên kết đến file CSV đầy đủ trên [dataset description page](https://www.kaggle.com/datasets/mkechinov/direct-messaging)."
   ]
  },
  {
   "cell_type": "code",
   "execution_count": 18,
   "id": "fc979964",
   "metadata": {
    "execution": {
     "iopub.execute_input": "2023-06-11T13:46:11.724132Z",
     "iopub.status.busy": "2023-06-11T13:46:11.723605Z",
     "iopub.status.idle": "2023-06-11T13:46:19.639970Z",
     "shell.execute_reply": "2023-06-11T13:46:19.638483Z"
    },
    "papermill": {
     "duration": 7.940043,
     "end_time": "2023-06-11T13:46:19.642953",
     "exception": false,
     "start_time": "2023-06-11T13:46:11.702910",
     "status": "completed"
    },
    "tags": []
   },
   "outputs": [],
   "source": [
    "# Lọc dữ liệu theo loại chiến dịch (bulk, trigger, transactional)\n",
    "bulk_df          = messages_df[ messages_df['message_type'] == 'bulk' ]\n",
    "trigger_df       = messages_df[ messages_df['message_type'] == 'trigger' ]\n",
    "transactional_df = messages_df[ messages_df['message_type'] == 'transactional' ]"
   ]
  },
  {
   "cell_type": "markdown",
   "id": "22482779",
   "metadata": {
    "papermill": {
     "duration": 0.019422,
     "end_time": "2023-06-11T13:46:19.682677",
     "exception": false,
     "start_time": "2023-06-11T13:46:19.663255",
     "status": "completed"
    },
    "tags": []
   },
   "source": [
    "### Bulk messages"
   ]
  },
  {
   "cell_type": "markdown",
   "id": "a148c21d",
   "metadata": {
    "papermill": {
     "duration": 0.021143,
     "end_time": "2023-06-11T13:46:19.723936",
     "exception": false,
     "start_time": "2023-06-11T13:46:19.702793",
     "status": "completed"
    },
    "tags": []
   },
   "source": [
    "Tính toán số lượng tin nhắn theo kênh. DataFrame hạn chế này chỉ có thông tin về `email` và `mobile_push`:"
   ]
  },
  {
   "cell_type": "code",
   "execution_count": 19,
   "id": "ffae2ae7",
   "metadata": {
    "execution": {
     "iopub.execute_input": "2023-06-11T13:46:19.764863Z",
     "iopub.status.busy": "2023-06-11T13:46:19.763065Z",
     "iopub.status.idle": "2023-06-11T13:46:20.969167Z",
     "shell.execute_reply": "2023-06-11T13:46:20.967850Z"
    },
    "papermill": {
     "duration": 1.229354,
     "end_time": "2023-06-11T13:46:20.972466",
     "exception": false,
     "start_time": "2023-06-11T13:46:19.743112",
     "status": "completed"
    },
    "tags": []
   },
   "outputs": [
    {
     "data": {
      "text/plain": [
       "channel\n",
       "mobile_push    4228385\n",
       "email          2834010\n",
       "Name: count, dtype: int64"
      ]
     },
     "execution_count": 19,
     "metadata": {},
     "output_type": "execute_result"
    }
   ],
   "source": [
    "# Đếm số lượng các chiến dịch theo channel\n",
    "bulk_df['channel'].value_counts()"
   ]
  },
  {
   "cell_type": "markdown",
   "id": "9f7ec93c",
   "metadata": {
    "papermill": {
     "duration": 0.019842,
     "end_time": "2023-06-11T13:46:21.013143",
     "exception": false,
     "start_time": "2023-06-11T13:46:20.993301",
     "status": "completed"
    },
    "tags": []
   },
   "source": [
    "#### Experiment 1: Nghiên cứu tỷ lệ chuyển đổi của chiến dịch email gửi hàng loạt\n",
    "\n",
    "Hãy thử tính toán tỷ lệ chuyển đổi của từng chiến dịch email."
   ]
  },
  {
   "cell_type": "code",
   "execution_count": 20,
   "id": "0c9756f2",
   "metadata": {
    "execution": {
     "iopub.execute_input": "2023-06-11T13:46:21.054220Z",
     "iopub.status.busy": "2023-06-11T13:46:21.053727Z",
     "iopub.status.idle": "2023-06-11T13:46:27.229057Z",
     "shell.execute_reply": "2023-06-11T13:46:27.227292Z"
    },
    "papermill": {
     "duration": 6.19993,
     "end_time": "2023-06-11T13:46:27.233036",
     "exception": false,
     "start_time": "2023-06-11T13:46:21.033106",
     "status": "completed"
    },
    "tags": []
   },
   "outputs": [
    {
     "data": {
      "text/plain": [
       "campaign_id              2834010\n",
       "message_type             2834010\n",
       "client_id                2834010\n",
       "channel                  2834010\n",
       "platform                  418885\n",
       "email_provider           2834010\n",
       "stream                   2834010\n",
       "date                     2834010\n",
       "sent_at                  2834010\n",
       "is_opened                2834010\n",
       "opened_first_time_at      489189\n",
       "opened_last_time_at       489189\n",
       "is_clicked               2834010\n",
       "clicked_first_time_at      81042\n",
       "clicked_last_time_at       81042\n",
       "is_unsubscribed          2834010\n",
       "unsubscribed_at             9622\n",
       "is_hard_bounced          2834010\n",
       "hard_bounced_at              225\n",
       "is_soft_bounced          2834010\n",
       "soft_bounced_at              951\n",
       "is_complained            2834010\n",
       "complained_at               2100\n",
       "is_blocked               2834010\n",
       "blocked_at                    44\n",
       "is_purchased             2834010\n",
       "purchased_at                2496\n",
       "dtype: int64"
      ]
     },
     "execution_count": 20,
     "metadata": {},
     "output_type": "execute_result"
    }
   ],
   "source": [
    "# Lọc các chiến dịch email trong danh sách bulk\n",
    "bulk_email_df = bulk_df[bulk_df['channel'] == 'email']\n",
    "\n",
    "# Hiển thị số lượng các bản ghi của chiến dịch email\n",
    "bulk_email_df.count()"
   ]
  },
  {
   "cell_type": "code",
   "execution_count": 21,
   "id": "51d123ac",
   "metadata": {
    "execution": {
     "iopub.execute_input": "2023-06-11T13:46:27.276743Z",
     "iopub.status.busy": "2023-06-11T13:46:27.276273Z",
     "iopub.status.idle": "2023-06-11T13:46:27.457757Z",
     "shell.execute_reply": "2023-06-11T13:46:27.456529Z"
    },
    "papermill": {
     "duration": 0.206744,
     "end_time": "2023-06-11T13:46:27.460639",
     "exception": false,
     "start_time": "2023-06-11T13:46:27.253895",
     "status": "completed"
    },
    "tags": []
   },
   "outputs": [
    {
     "data": {
      "text/html": [
       "<div>\n",
       "<style scoped>\n",
       "    .dataframe tbody tr th:only-of-type {\n",
       "        vertical-align: middle;\n",
       "    }\n",
       "\n",
       "    .dataframe tbody tr th {\n",
       "        vertical-align: top;\n",
       "    }\n",
       "\n",
       "    .dataframe thead th {\n",
       "        text-align: right;\n",
       "    }\n",
       "</style>\n",
       "<table border=\"1\" class=\"dataframe\">\n",
       "  <thead>\n",
       "    <tr style=\"text-align: right;\">\n",
       "      <th></th>\n",
       "      <th>sent</th>\n",
       "      <th>purchased</th>\n",
       "    </tr>\n",
       "    <tr>\n",
       "      <th>campaign_id</th>\n",
       "      <th></th>\n",
       "      <th></th>\n",
       "    </tr>\n",
       "  </thead>\n",
       "  <tbody>\n",
       "    <tr>\n",
       "      <th>129</th>\n",
       "      <td>3</td>\n",
       "      <td>0</td>\n",
       "    </tr>\n",
       "    <tr>\n",
       "      <th>136</th>\n",
       "      <td>177363</td>\n",
       "      <td>38</td>\n",
       "    </tr>\n",
       "    <tr>\n",
       "      <th>143</th>\n",
       "      <td>283063</td>\n",
       "      <td>89</td>\n",
       "    </tr>\n",
       "    <tr>\n",
       "      <th>150</th>\n",
       "      <td>781357</td>\n",
       "      <td>1220</td>\n",
       "    </tr>\n",
       "    <tr>\n",
       "      <th>152</th>\n",
       "      <td>274633</td>\n",
       "      <td>178</td>\n",
       "    </tr>\n",
       "  </tbody>\n",
       "</table>\n",
       "</div>"
      ],
      "text/plain": [
       "               sent  purchased\n",
       "campaign_id                   \n",
       "129               3          0\n",
       "136          177363         38\n",
       "143          283063         89\n",
       "150          781357       1220\n",
       "152          274633        178"
      ]
     },
     "execution_count": 21,
     "metadata": {},
     "output_type": "execute_result"
    }
   ],
   "source": [
    "# Tính tổng số lượng gửi và số lượng mua\n",
    "email_campaigns = pd.pivot_table(bulk_email_df, index='campaign_id', values='is_purchased', aggfunc=['count', 'sum'] )\n",
    "email_campaigns.columns = ['sent', 'purchased']\n",
    "email_campaigns.head()"
   ]
  },
  {
   "cell_type": "code",
   "execution_count": 22,
   "id": "da0f8f70",
   "metadata": {
    "execution": {
     "iopub.execute_input": "2023-06-11T13:46:27.501371Z",
     "iopub.status.busy": "2023-06-11T13:46:27.500870Z",
     "iopub.status.idle": "2023-06-11T13:46:27.521928Z",
     "shell.execute_reply": "2023-06-11T13:46:27.520712Z"
    },
    "papermill": {
     "duration": 0.044648,
     "end_time": "2023-06-11T13:46:27.524686",
     "exception": false,
     "start_time": "2023-06-11T13:46:27.480038",
     "status": "completed"
    },
    "tags": []
   },
   "outputs": [
    {
     "data": {
      "text/html": [
       "<div>\n",
       "<style scoped>\n",
       "    .dataframe tbody tr th:only-of-type {\n",
       "        vertical-align: middle;\n",
       "    }\n",
       "\n",
       "    .dataframe tbody tr th {\n",
       "        vertical-align: top;\n",
       "    }\n",
       "\n",
       "    .dataframe thead th {\n",
       "        text-align: right;\n",
       "    }\n",
       "</style>\n",
       "<table border=\"1\" class=\"dataframe\">\n",
       "  <thead>\n",
       "    <tr style=\"text-align: right;\">\n",
       "      <th></th>\n",
       "      <th>sent</th>\n",
       "      <th>purchased</th>\n",
       "      <th>conversion</th>\n",
       "    </tr>\n",
       "    <tr>\n",
       "      <th>campaign_id</th>\n",
       "      <th></th>\n",
       "      <th></th>\n",
       "      <th></th>\n",
       "    </tr>\n",
       "  </thead>\n",
       "  <tbody>\n",
       "    <tr>\n",
       "      <th>361</th>\n",
       "      <td>59475</td>\n",
       "      <td>480</td>\n",
       "      <td>0.807062</td>\n",
       "    </tr>\n",
       "    <tr>\n",
       "      <th>289</th>\n",
       "      <td>60332</td>\n",
       "      <td>194</td>\n",
       "      <td>0.321554</td>\n",
       "    </tr>\n",
       "    <tr>\n",
       "      <th>196</th>\n",
       "      <td>6373</td>\n",
       "      <td>10</td>\n",
       "      <td>0.156912</td>\n",
       "    </tr>\n",
       "    <tr>\n",
       "      <th>150</th>\n",
       "      <td>781357</td>\n",
       "      <td>1220</td>\n",
       "      <td>0.156139</td>\n",
       "    </tr>\n",
       "    <tr>\n",
       "      <th>337</th>\n",
       "      <td>6582</td>\n",
       "      <td>7</td>\n",
       "      <td>0.106351</td>\n",
       "    </tr>\n",
       "  </tbody>\n",
       "</table>\n",
       "</div>"
      ],
      "text/plain": [
       "               sent  purchased  conversion\n",
       "campaign_id                               \n",
       "361           59475        480    0.807062\n",
       "289           60332        194    0.321554\n",
       "196            6373         10    0.156912\n",
       "150          781357       1220    0.156139\n",
       "337            6582          7    0.106351"
      ]
     },
     "execution_count": 22,
     "metadata": {},
     "output_type": "execute_result"
    }
   ],
   "source": [
    "# Tính tỷ lệ chuyển đổi (conversion rate)\n",
    "email_campaigns['conversion'] = (email_campaigns['purchased'] / email_campaigns['sent'] * 100)\n",
    "email_campaigns.sort_values('conversion', ascending=False).head()"
   ]
  },
  {
   "cell_type": "code",
   "execution_count": 23,
   "id": "76952a2a",
   "metadata": {
    "execution": {
     "iopub.execute_input": "2023-06-11T13:46:27.568495Z",
     "iopub.status.busy": "2023-06-11T13:46:27.567537Z",
     "iopub.status.idle": "2023-06-11T13:46:27.601938Z",
     "shell.execute_reply": "2023-06-11T13:46:27.600368Z"
    },
    "papermill": {
     "duration": 0.059851,
     "end_time": "2023-06-11T13:46:27.604958",
     "exception": false,
     "start_time": "2023-06-11T13:46:27.545107",
     "status": "completed"
    },
    "tags": []
   },
   "outputs": [
    {
     "name": "stderr",
     "output_type": "stream",
     "text": [
      "C:\\Users\\miynzi\\AppData\\Local\\Temp\\ipykernel_20384\\1772651656.py:3: SettingWithCopyWarning: \n",
      "A value is trying to be set on a copy of a slice from a DataFrame\n",
      "\n",
      "See the caveats in the documentation: https://pandas.pydata.org/pandas-docs/stable/user_guide/indexing.html#returning-a-view-versus-a-copy\n",
      "  email_campaigns_data.drop(labels=['campaign_type', 'channel', 'total_count', 'ab_test', 'warmup_mode', 'hour_limit', 'is_test', 'position'], inplace=True, axis=1)\n"
     ]
    },
    {
     "data": {
      "text/html": [
       "<div>\n",
       "<style scoped>\n",
       "    .dataframe tbody tr th:only-of-type {\n",
       "        vertical-align: middle;\n",
       "    }\n",
       "\n",
       "    .dataframe tbody tr th {\n",
       "        vertical-align: top;\n",
       "    }\n",
       "\n",
       "    .dataframe thead th {\n",
       "        text-align: right;\n",
       "    }\n",
       "</style>\n",
       "<table border=\"1\" class=\"dataframe\">\n",
       "  <thead>\n",
       "    <tr style=\"text-align: right;\">\n",
       "      <th></th>\n",
       "      <th>sent</th>\n",
       "      <th>purchased</th>\n",
       "      <th>conversion</th>\n",
       "      <th>topic</th>\n",
       "      <th>started_at</th>\n",
       "      <th>finished_at</th>\n",
       "      <th>subject_length</th>\n",
       "      <th>subject_with_personalization</th>\n",
       "      <th>subject_with_deadline</th>\n",
       "      <th>subject_with_emoji</th>\n",
       "      <th>subject_with_bonuses</th>\n",
       "      <th>subject_with_discount</th>\n",
       "      <th>subject_with_saleout</th>\n",
       "    </tr>\n",
       "    <tr>\n",
       "      <th>campaign_id</th>\n",
       "      <th></th>\n",
       "      <th></th>\n",
       "      <th></th>\n",
       "      <th></th>\n",
       "      <th></th>\n",
       "      <th></th>\n",
       "      <th></th>\n",
       "      <th></th>\n",
       "      <th></th>\n",
       "      <th></th>\n",
       "      <th></th>\n",
       "      <th></th>\n",
       "      <th></th>\n",
       "    </tr>\n",
       "  </thead>\n",
       "  <tbody>\n",
       "    <tr>\n",
       "      <th>129</th>\n",
       "      <td>3</td>\n",
       "      <td>0</td>\n",
       "      <td>0.000000</td>\n",
       "      <td>sale out</td>\n",
       "      <td>2021-05-18 07:38:49.825780</td>\n",
       "      <td>2021-05-18 07:38:58</td>\n",
       "      <td>133</td>\n",
       "      <td>False</td>\n",
       "      <td>False</td>\n",
       "      <td>True</td>\n",
       "      <td>False</td>\n",
       "      <td>False</td>\n",
       "      <td>False</td>\n",
       "    </tr>\n",
       "    <tr>\n",
       "      <th>136</th>\n",
       "      <td>177363</td>\n",
       "      <td>38</td>\n",
       "      <td>0.021425</td>\n",
       "      <td>sale out</td>\n",
       "      <td>2021-05-19 07:00:11.121170</td>\n",
       "      <td>2021-05-19 08:03:19</td>\n",
       "      <td>133</td>\n",
       "      <td>False</td>\n",
       "      <td>False</td>\n",
       "      <td>True</td>\n",
       "      <td>False</td>\n",
       "      <td>False</td>\n",
       "      <td>False</td>\n",
       "    </tr>\n",
       "    <tr>\n",
       "      <th>143</th>\n",
       "      <td>283063</td>\n",
       "      <td>89</td>\n",
       "      <td>0.031442</td>\n",
       "      <td>sale out</td>\n",
       "      <td>2021-05-20 08:00:16.293566</td>\n",
       "      <td>2021-05-20 08:57:18</td>\n",
       "      <td>112</td>\n",
       "      <td>False</td>\n",
       "      <td>False</td>\n",
       "      <td>True</td>\n",
       "      <td>False</td>\n",
       "      <td>False</td>\n",
       "      <td>False</td>\n",
       "    </tr>\n",
       "    <tr>\n",
       "      <th>150</th>\n",
       "      <td>781357</td>\n",
       "      <td>1220</td>\n",
       "      <td>0.156139</td>\n",
       "      <td>sale out</td>\n",
       "      <td>2021-05-21 07:00:11.471804</td>\n",
       "      <td>2021-05-21 09:39:41</td>\n",
       "      <td>133</td>\n",
       "      <td>False</td>\n",
       "      <td>False</td>\n",
       "      <td>True</td>\n",
       "      <td>False</td>\n",
       "      <td>False</td>\n",
       "      <td>False</td>\n",
       "    </tr>\n",
       "    <tr>\n",
       "      <th>152</th>\n",
       "      <td>274633</td>\n",
       "      <td>178</td>\n",
       "      <td>0.064814</td>\n",
       "      <td>sale out</td>\n",
       "      <td>2021-05-24 07:48:42.153896</td>\n",
       "      <td>2021-05-24 08:43:38</td>\n",
       "      <td>109</td>\n",
       "      <td>False</td>\n",
       "      <td>False</td>\n",
       "      <td>True</td>\n",
       "      <td>False</td>\n",
       "      <td>False</td>\n",
       "      <td>False</td>\n",
       "    </tr>\n",
       "  </tbody>\n",
       "</table>\n",
       "</div>"
      ],
      "text/plain": [
       "               sent  purchased  conversion     topic  \\\n",
       "campaign_id                                            \n",
       "129               3          0    0.000000  sale out   \n",
       "136          177363         38    0.021425  sale out   \n",
       "143          283063         89    0.031442  sale out   \n",
       "150          781357       1220    0.156139  sale out   \n",
       "152          274633        178    0.064814  sale out   \n",
       "\n",
       "                            started_at         finished_at  subject_length  \\\n",
       "campaign_id                                                                  \n",
       "129         2021-05-18 07:38:49.825780 2021-05-18 07:38:58             133   \n",
       "136         2021-05-19 07:00:11.121170 2021-05-19 08:03:19             133   \n",
       "143         2021-05-20 08:00:16.293566 2021-05-20 08:57:18             112   \n",
       "150         2021-05-21 07:00:11.471804 2021-05-21 09:39:41             133   \n",
       "152         2021-05-24 07:48:42.153896 2021-05-24 08:43:38             109   \n",
       "\n",
       "            subject_with_personalization subject_with_deadline  \\\n",
       "campaign_id                                                      \n",
       "129                                False                 False   \n",
       "136                                False                 False   \n",
       "143                                False                 False   \n",
       "150                                False                 False   \n",
       "152                                False                 False   \n",
       "\n",
       "            subject_with_emoji subject_with_bonuses subject_with_discount  \\\n",
       "campaign_id                                                                 \n",
       "129                       True                False                 False   \n",
       "136                       True                False                 False   \n",
       "143                       True                False                 False   \n",
       "150                       True                False                 False   \n",
       "152                       True                False                 False   \n",
       "\n",
       "            subject_with_saleout  \n",
       "campaign_id                       \n",
       "129                        False  \n",
       "136                        False  \n",
       "143                        False  \n",
       "150                        False  \n",
       "152                        False  "
      ]
     },
     "execution_count": 23,
     "metadata": {},
     "output_type": "execute_result"
    }
   ],
   "source": [
    "# Thêm thông tin chiến dịch vào bảng email_campaigns\n",
    "email_campaigns_data = campaigns_df.loc[ (campaigns_df['channel'] == 'email') & (campaigns_df['campaign_type'] == 'bulk') ]\n",
    "email_campaigns_data.drop(labels=['campaign_type', 'channel', 'total_count', 'ab_test', 'warmup_mode', 'hour_limit', 'is_test', 'position'], inplace=True, axis=1)\n",
    "\n",
    "email_campaigns_data = email_campaigns_data.set_index(email_campaigns_data['id'])\n",
    "email_campaigns_data.drop(labels=['id'], inplace=True, axis=1)\n",
    "\n",
    "email_campaigns = email_campaigns.merge(email_campaigns_data, how='left', left_index=True, right_index=True)\n",
    "email_campaigns.head()"
   ]
  },
  {
   "cell_type": "markdown",
   "id": "782eb478",
   "metadata": {
    "papermill": {
     "duration": 0.021004,
     "end_time": "2023-06-11T13:46:27.646517",
     "exception": false,
     "start_time": "2023-06-11T13:46:27.625513",
     "status": "completed"
    },
    "tags": []
   },
   "source": [
    "Hãy kiểm tra chủ đề tiêu đề nào ảnh hưởng đến tỷ lệ chuyển đổi:"
   ]
  },
  {
   "cell_type": "code",
   "execution_count": 24,
   "id": "8030e615",
   "metadata": {
    "execution": {
     "iopub.execute_input": "2023-06-11T13:46:27.691791Z",
     "iopub.status.busy": "2023-06-11T13:46:27.690874Z",
     "iopub.status.idle": "2023-06-11T13:46:28.065990Z",
     "shell.execute_reply": "2023-06-11T13:46:28.064536Z"
    },
    "papermill": {
     "duration": 0.401498,
     "end_time": "2023-06-11T13:46:28.069163",
     "exception": false,
     "start_time": "2023-06-11T13:46:27.667665",
     "status": "completed"
    },
    "tags": []
   },
   "outputs": [
    {
     "data": {
      "image/png": "[encoded data removed]",
      "text/plain": [
       "<Figure size 640x480 with 1 Axes>"
      ]
     },
     "metadata": {},
     "output_type": "display_data"
    }
   ],
   "source": [
    "# Vẽ biểu đồ tỷ lệ chuyển đổi theo chủ đề chiến dịch\n",
    "email_campaigns[['topic', 'conversion']].pivot_table(index='topic', values='conversion', aggfunc='median').plot(kind='bar')\n",
    "plt.show()"
   ]
  },
  {
   "cell_type": "markdown",
   "id": "aa6a84aa",
   "metadata": {
    "papermill": {
     "duration": 0.019821,
     "end_time": "2023-06-11T13:46:28.110139",
     "exception": false,
     "start_time": "2023-06-11T13:46:28.090318",
     "status": "completed"
    },
    "tags": []
   },
   "source": [
    "Hãy kiểm tra cách mà việc cá nhân hóa ảnh hưởng đến tỷ lệ chuyển đổi:"
   ]
  },
  {
   "cell_type": "code",
   "execution_count": 25,
   "id": "b9f1f234",
   "metadata": {
    "execution": {
     "iopub.execute_input": "2023-06-11T13:46:28.157307Z",
     "iopub.status.busy": "2023-06-11T13:46:28.156884Z",
     "iopub.status.idle": "2023-06-11T13:46:28.416847Z",
     "shell.execute_reply": "2023-06-11T13:46:28.415455Z"
    },
    "papermill": {
     "duration": 0.2855,
     "end_time": "2023-06-11T13:46:28.419899",
     "exception": false,
     "start_time": "2023-06-11T13:46:28.134399",
     "status": "completed"
    },
    "tags": []
   },
   "outputs": [
    {
     "data": {
      "image/png": "[encoded data removed]",
      "text/plain": [
       "<Figure size 640x480 with 1 Axes>"
      ]
     },
     "metadata": {},
     "output_type": "display_data"
    }
   ],
   "source": [
    "# Vẽ biểu đồ tỷ lệ chuyển đổi theo việc sử dụng tên cá nhân hóa trong chủ đề\n",
    "email_campaigns[['subject_with_personalization', 'conversion']].pivot_table(index='subject_with_personalization', values='conversion', aggfunc='median').plot(kind='bar')\n",
    "plt.show()"
   ]
  },
  {
   "cell_type": "markdown",
   "id": "ef061d0e",
   "metadata": {
    "papermill": {
     "duration": 0.020164,
     "end_time": "2023-06-11T13:46:28.461123",
     "exception": false,
     "start_time": "2023-06-11T13:46:28.440959",
     "status": "completed"
    },
    "tags": []
   },
   "source": [
    "#### Experiment 2: #### Thí nghiệm 2: Nghiên cứu tỷ lệ mở (Open Rate)\n",
    "\n",
    "Tỷ lệ mở (open rate) giống như tỷ lệ chuyển đổi, nhưng đo lường số lượng người dùng mở email khi họ đọc tiêu đề và phần preview (pre-header) của tin nhắn."
   ]
  },
  {
   "cell_type": "code",
   "execution_count": 26,
   "id": "d4ea438a",
   "metadata": {
    "execution": {
     "iopub.execute_input": "2023-06-11T13:46:28.504490Z",
     "iopub.status.busy": "2023-06-11T13:46:28.503580Z",
     "iopub.status.idle": "2023-06-11T13:46:28.657116Z",
     "shell.execute_reply": "2023-06-11T13:46:28.655508Z"
    },
    "papermill": {
     "duration": 0.179143,
     "end_time": "2023-06-11T13:46:28.660688",
     "exception": false,
     "start_time": "2023-06-11T13:46:28.481545",
     "status": "completed"
    },
    "tags": []
   },
   "outputs": [
    {
     "data": {
      "text/html": [
       "<div>\n",
       "<style scoped>\n",
       "    .dataframe tbody tr th:only-of-type {\n",
       "        vertical-align: middle;\n",
       "    }\n",
       "\n",
       "    .dataframe tbody tr th {\n",
       "        vertical-align: top;\n",
       "    }\n",
       "\n",
       "    .dataframe thead th {\n",
       "        text-align: right;\n",
       "    }\n",
       "</style>\n",
       "<table border=\"1\" class=\"dataframe\">\n",
       "  <thead>\n",
       "    <tr style=\"text-align: right;\">\n",
       "      <th></th>\n",
       "      <th>sent</th>\n",
       "      <th>opened</th>\n",
       "    </tr>\n",
       "    <tr>\n",
       "      <th>campaign_id</th>\n",
       "      <th></th>\n",
       "      <th></th>\n",
       "    </tr>\n",
       "  </thead>\n",
       "  <tbody>\n",
       "    <tr>\n",
       "      <th>129</th>\n",
       "      <td>3</td>\n",
       "      <td>3</td>\n",
       "    </tr>\n",
       "    <tr>\n",
       "      <th>136</th>\n",
       "      <td>177363</td>\n",
       "      <td>24041</td>\n",
       "    </tr>\n",
       "    <tr>\n",
       "      <th>143</th>\n",
       "      <td>283063</td>\n",
       "      <td>42161</td>\n",
       "    </tr>\n",
       "    <tr>\n",
       "      <th>150</th>\n",
       "      <td>781357</td>\n",
       "      <td>213141</td>\n",
       "    </tr>\n",
       "    <tr>\n",
       "      <th>152</th>\n",
       "      <td>274633</td>\n",
       "      <td>40818</td>\n",
       "    </tr>\n",
       "  </tbody>\n",
       "</table>\n",
       "</div>"
      ],
      "text/plain": [
       "               sent  opened\n",
       "campaign_id                \n",
       "129               3       3\n",
       "136          177363   24041\n",
       "143          283063   42161\n",
       "150          781357  213141\n",
       "152          274633   40818"
      ]
     },
     "execution_count": 26,
     "metadata": {},
     "output_type": "execute_result"
    }
   ],
   "source": [
    "# Tính tỷ lệ mở email (Open Rate) thay vì tỷ lệ mua (Conversion)\n",
    "email_campaigns = pd.pivot_table(bulk_email_df, index='campaign_id', values='is_opened', aggfunc=['count', 'sum'] )\n",
    "email_campaigns.columns = ['sent', 'opened']\n",
    "email_campaigns.head()"
   ]
  },
  {
   "cell_type": "code",
   "execution_count": 27,
   "id": "7f0bc928",
   "metadata": {
    "execution": {
     "iopub.execute_input": "2023-06-11T13:46:28.710055Z",
     "iopub.status.busy": "2023-06-11T13:46:28.709403Z",
     "iopub.status.idle": "2023-06-11T13:46:28.737544Z",
     "shell.execute_reply": "2023-06-11T13:46:28.736532Z"
    },
    "papermill": {
     "duration": 0.054906,
     "end_time": "2023-06-11T13:46:28.740286",
     "exception": false,
     "start_time": "2023-06-11T13:46:28.685380",
     "status": "completed"
    },
    "tags": []
   },
   "outputs": [
    {
     "data": {
      "text/html": [
       "<div>\n",
       "<style scoped>\n",
       "    .dataframe tbody tr th:only-of-type {\n",
       "        vertical-align: middle;\n",
       "    }\n",
       "\n",
       "    .dataframe tbody tr th {\n",
       "        vertical-align: top;\n",
       "    }\n",
       "\n",
       "    .dataframe thead th {\n",
       "        text-align: right;\n",
       "    }\n",
       "</style>\n",
       "<table border=\"1\" class=\"dataframe\">\n",
       "  <thead>\n",
       "    <tr style=\"text-align: right;\">\n",
       "      <th></th>\n",
       "      <th>sent</th>\n",
       "      <th>opened</th>\n",
       "      <th>conversion</th>\n",
       "      <th>topic</th>\n",
       "      <th>started_at</th>\n",
       "      <th>finished_at</th>\n",
       "      <th>subject_length</th>\n",
       "      <th>subject_with_personalization</th>\n",
       "      <th>subject_with_deadline</th>\n",
       "      <th>subject_with_emoji</th>\n",
       "      <th>subject_with_bonuses</th>\n",
       "      <th>subject_with_discount</th>\n",
       "      <th>subject_with_saleout</th>\n",
       "    </tr>\n",
       "    <tr>\n",
       "      <th>campaign_id</th>\n",
       "      <th></th>\n",
       "      <th></th>\n",
       "      <th></th>\n",
       "      <th></th>\n",
       "      <th></th>\n",
       "      <th></th>\n",
       "      <th></th>\n",
       "      <th></th>\n",
       "      <th></th>\n",
       "      <th></th>\n",
       "      <th></th>\n",
       "      <th></th>\n",
       "      <th></th>\n",
       "    </tr>\n",
       "  </thead>\n",
       "  <tbody>\n",
       "    <tr>\n",
       "      <th>129</th>\n",
       "      <td>3</td>\n",
       "      <td>3</td>\n",
       "      <td>100.000000</td>\n",
       "      <td>sale out</td>\n",
       "      <td>2021-05-18 07:38:49.825780</td>\n",
       "      <td>2021-05-18 07:38:58</td>\n",
       "      <td>133</td>\n",
       "      <td>False</td>\n",
       "      <td>False</td>\n",
       "      <td>True</td>\n",
       "      <td>False</td>\n",
       "      <td>False</td>\n",
       "      <td>False</td>\n",
       "    </tr>\n",
       "    <tr>\n",
       "      <th>136</th>\n",
       "      <td>177363</td>\n",
       "      <td>24041</td>\n",
       "      <td>13.554687</td>\n",
       "      <td>sale out</td>\n",
       "      <td>2021-05-19 07:00:11.121170</td>\n",
       "      <td>2021-05-19 08:03:19</td>\n",
       "      <td>133</td>\n",
       "      <td>False</td>\n",
       "      <td>False</td>\n",
       "      <td>True</td>\n",
       "      <td>False</td>\n",
       "      <td>False</td>\n",
       "      <td>False</td>\n",
       "    </tr>\n",
       "    <tr>\n",
       "      <th>143</th>\n",
       "      <td>283063</td>\n",
       "      <td>42161</td>\n",
       "      <td>14.894564</td>\n",
       "      <td>sale out</td>\n",
       "      <td>2021-05-20 08:00:16.293566</td>\n",
       "      <td>2021-05-20 08:57:18</td>\n",
       "      <td>112</td>\n",
       "      <td>False</td>\n",
       "      <td>False</td>\n",
       "      <td>True</td>\n",
       "      <td>False</td>\n",
       "      <td>False</td>\n",
       "      <td>False</td>\n",
       "    </tr>\n",
       "    <tr>\n",
       "      <th>150</th>\n",
       "      <td>781357</td>\n",
       "      <td>213141</td>\n",
       "      <td>27.278312</td>\n",
       "      <td>sale out</td>\n",
       "      <td>2021-05-21 07:00:11.471804</td>\n",
       "      <td>2021-05-21 09:39:41</td>\n",
       "      <td>133</td>\n",
       "      <td>False</td>\n",
       "      <td>False</td>\n",
       "      <td>True</td>\n",
       "      <td>False</td>\n",
       "      <td>False</td>\n",
       "      <td>False</td>\n",
       "    </tr>\n",
       "    <tr>\n",
       "      <th>152</th>\n",
       "      <td>274633</td>\n",
       "      <td>40818</td>\n",
       "      <td>14.862744</td>\n",
       "      <td>sale out</td>\n",
       "      <td>2021-05-24 07:48:42.153896</td>\n",
       "      <td>2021-05-24 08:43:38</td>\n",
       "      <td>109</td>\n",
       "      <td>False</td>\n",
       "      <td>False</td>\n",
       "      <td>True</td>\n",
       "      <td>False</td>\n",
       "      <td>False</td>\n",
       "      <td>False</td>\n",
       "    </tr>\n",
       "  </tbody>\n",
       "</table>\n",
       "</div>"
      ],
      "text/plain": [
       "               sent  opened  conversion     topic                 started_at  \\\n",
       "campaign_id                                                                    \n",
       "129               3       3  100.000000  sale out 2021-05-18 07:38:49.825780   \n",
       "136          177363   24041   13.554687  sale out 2021-05-19 07:00:11.121170   \n",
       "143          283063   42161   14.894564  sale out 2021-05-20 08:00:16.293566   \n",
       "150          781357  213141   27.278312  sale out 2021-05-21 07:00:11.471804   \n",
       "152          274633   40818   14.862744  sale out 2021-05-24 07:48:42.153896   \n",
       "\n",
       "                    finished_at  subject_length subject_with_personalization  \\\n",
       "campaign_id                                                                    \n",
       "129         2021-05-18 07:38:58             133                        False   \n",
       "136         2021-05-19 08:03:19             133                        False   \n",
       "143         2021-05-20 08:57:18             112                        False   \n",
       "150         2021-05-21 09:39:41             133                        False   \n",
       "152         2021-05-24 08:43:38             109                        False   \n",
       "\n",
       "            subject_with_deadline subject_with_emoji subject_with_bonuses  \\\n",
       "campaign_id                                                                 \n",
       "129                         False               True                False   \n",
       "136                         False               True                False   \n",
       "143                         False               True                False   \n",
       "150                         False               True                False   \n",
       "152                         False               True                False   \n",
       "\n",
       "            subject_with_discount subject_with_saleout  \n",
       "campaign_id                                             \n",
       "129                         False                False  \n",
       "136                         False                False  \n",
       "143                         False                False  \n",
       "150                         False                False  \n",
       "152                         False                False  "
      ]
     },
     "execution_count": 27,
     "metadata": {},
     "output_type": "execute_result"
    }
   ],
   "source": [
    "# Tính tỷ lệ mở (open rate) theo phần trăm\n",
    "email_campaigns['conversion'] = (email_campaigns['opened'] / email_campaigns['sent'] * 100)\n",
    "email_campaigns.sort_values('conversion', ascending=False).head()\n",
    "\n",
    "# Thêm thông tin chiến dịch vào bảng email_campaigns\n",
    "email_campaigns = email_campaigns.merge(email_campaigns_data, how='left', left_index=True, right_index=True)\n",
    "email_campaigns.head()"
   ]
  },
  {
   "cell_type": "markdown",
   "id": "9fdebe48",
   "metadata": {
    "papermill": {
     "duration": 0.022586,
     "end_time": "2023-06-11T13:46:28.788372",
     "exception": false,
     "start_time": "2023-06-11T13:46:28.765786",
     "status": "completed"
    },
    "tags": []
   },
   "source": [
    "Hãy kiểm tra chủ đề tiêu đề nào ảnh hưởng đến tỷ lệ mở (OR%):"
   ]
  },
  {
   "cell_type": "code",
   "execution_count": 28,
   "id": "82e68c25",
   "metadata": {
    "execution": {
     "iopub.execute_input": "2023-06-11T13:46:28.835411Z",
     "iopub.status.busy": "2023-06-11T13:46:28.834504Z",
     "iopub.status.idle": "2023-06-11T13:46:29.087910Z",
     "shell.execute_reply": "2023-06-11T13:46:29.085448Z"
    },
    "papermill": {
     "duration": 0.280484,
     "end_time": "2023-06-11T13:46:29.091702",
     "exception": false,
     "start_time": "2023-06-11T13:46:28.811218",
     "status": "completed"
    },
    "tags": []
   },
   "outputs": [
    {
     "data": {
      "image/png": "[encoded data removed]",
      "text/plain": [
       "<Figure size 640x480 with 1 Axes>"
      ]
     },
     "metadata": {},
     "output_type": "display_data"
    }
   ],
   "source": [
    "# Vẽ biểu đồ tỷ lệ mở email theo chủ đề chiến dịch\n",
    "email_campaigns[['topic', 'conversion']].pivot_table(index='topic', values='conversion', aggfunc='median').plot(kind='bar')\n",
    "plt.show()"
   ]
  },
  {
   "cell_type": "markdown",
   "id": "bb20fe20",
   "metadata": {
    "papermill": {
     "duration": 0.022132,
     "end_time": "2023-06-11T13:46:29.137362",
     "exception": false,
     "start_time": "2023-06-11T13:46:29.115230",
     "status": "completed"
    },
    "tags": []
   },
   "source": [
    "Hãy kiểm tra cách mà việc cá nhân hóa ảnh hưởng đến tỷ lệ chuyển đổi:"
   ]
  },
  {
   "cell_type": "code",
   "execution_count": 29,
   "id": "1301dad3",
   "metadata": {
    "execution": {
     "iopub.execute_input": "2023-06-11T13:46:29.186367Z",
     "iopub.status.busy": "2023-06-11T13:46:29.185897Z",
     "iopub.status.idle": "2023-06-11T13:46:29.600530Z",
     "shell.execute_reply": "2023-06-11T13:46:29.598997Z"
    },
    "papermill": {
     "duration": 0.442773,
     "end_time": "2023-06-11T13:46:29.603401",
     "exception": false,
     "start_time": "2023-06-11T13:46:29.160628",
     "status": "completed"
    },
    "tags": []
   },
   "outputs": [
    {
     "data": {
      "image/png": "[encoded data removed]",
      "text/plain": [
       "<Figure size 640x480 with 1 Axes>"
      ]
     },
     "metadata": {},
     "output_type": "display_data"
    }
   ],
   "source": [
    "# Vẽ biểu đồ tỷ lệ mở email theo việc sử dụng tên cá nhân hóa trong chủ đề\n",
    "email_campaigns[['subject_with_personalization', 'conversion']].pivot_table(index='subject_with_personalization', values='conversion', aggfunc='median').plot(kind='bar')\n",
    "plt.show()"
   ]
  },
  {
   "cell_type": "markdown",
   "id": "7ac75290",
   "metadata": {
    "papermill": {
     "duration": 0.024326,
     "end_time": "2023-06-11T13:46:29.650975",
     "exception": false,
     "start_time": "2023-06-11T13:46:29.626649",
     "status": "completed"
    },
    "tags": []
   },
   "source": [
    "Và kiểm tra cách mà emoji ảnh hưởng đến tỷ lệ mở (OR%):"
   ]
  },
  {
   "cell_type": "code",
   "execution_count": 30,
   "id": "ba4df7a9",
   "metadata": {
    "execution": {
     "iopub.execute_input": "2023-06-11T13:46:29.699946Z",
     "iopub.status.busy": "2023-06-11T13:46:29.699459Z",
     "iopub.status.idle": "2023-06-11T13:46:29.930396Z",
     "shell.execute_reply": "2023-06-11T13:46:29.928861Z"
    },
    "papermill": {
     "duration": 0.259392,
     "end_time": "2023-06-11T13:46:29.933290",
     "exception": false,
     "start_time": "2023-06-11T13:46:29.673898",
     "status": "completed"
    },
    "tags": []
   },
   "outputs": [
    {
     "data": {
      "image/png": "[encoded data removed]",
      "text/plain": [
       "<Figure size 640x480 with 1 Axes>"
      ]
     },
     "metadata": {},
     "output_type": "display_data"
    }
   ],
   "source": [
    "# Vẽ biểu đồ tỷ lệ mở email theo việc sử dụng emoji trong chủ đề\n",
    "email_campaigns[['subject_with_emoji', 'conversion']].pivot_table(index='subject_with_emoji', values='conversion', aggfunc='median').plot(kind='bar')\n",
    "plt.show()"
   ]
  },
  {
   "cell_type": "markdown",
   "id": "2dac7ee8",
   "metadata": {
    "papermill": {
     "duration": 0.02615,
     "end_time": "2023-06-11T13:46:29.982403",
     "exception": false,
     "start_time": "2023-06-11T13:46:29.956253",
     "status": "completed"
    },
    "tags": []
   },
   "source": [
    "Hmmm... có vẻ như họ gửi chiến dịch có emoji 🤪."
   ]
  },
  {
   "cell_type": "markdown",
   "id": "f35df5bc",
   "metadata": {},
   "source": [
    "# Client First Purchase Date"
   ]
  },
  {
   "cell_type": "code",
   "execution_count": 32,
   "id": "022a5206",
   "metadata": {},
   "outputs": [
    {
     "data": {
      "text/html": [
       "<div>\n",
       "<style scoped>\n",
       "    .dataframe tbody tr th:only-of-type {\n",
       "        vertical-align: middle;\n",
       "    }\n",
       "\n",
       "    .dataframe tbody tr th {\n",
       "        vertical-align: top;\n",
       "    }\n",
       "\n",
       "    .dataframe thead th {\n",
       "        text-align: right;\n",
       "    }\n",
       "</style>\n",
       "<table border=\"1\" class=\"dataframe\">\n",
       "  <thead>\n",
       "    <tr style=\"text-align: right;\">\n",
       "      <th></th>\n",
       "      <th>client_id</th>\n",
       "      <th>first_purchase_date</th>\n",
       "    </tr>\n",
       "  </thead>\n",
       "  <tbody>\n",
       "    <tr>\n",
       "      <th>0</th>\n",
       "      <td>1515915625761548908</td>\n",
       "      <td>2022-03-04</td>\n",
       "    </tr>\n",
       "    <tr>\n",
       "      <th>1</th>\n",
       "      <td>1515915625638660959</td>\n",
       "      <td>2022-04-06</td>\n",
       "    </tr>\n",
       "    <tr>\n",
       "      <th>2</th>\n",
       "      <td>1515915625490249330</td>\n",
       "      <td>2022-03-03</td>\n",
       "    </tr>\n",
       "    <tr>\n",
       "      <th>3</th>\n",
       "      <td>1515915625728802311</td>\n",
       "      <td>2021-12-20</td>\n",
       "    </tr>\n",
       "    <tr>\n",
       "      <th>4</th>\n",
       "      <td>1515915625915446913</td>\n",
       "      <td>2023-01-16</td>\n",
       "    </tr>\n",
       "  </tbody>\n",
       "</table>\n",
       "</div>"
      ],
      "text/plain": [
       "             client_id first_purchase_date\n",
       "0  1515915625761548908          2022-03-04\n",
       "1  1515915625638660959          2022-04-06\n",
       "2  1515915625490249330          2022-03-03\n",
       "3  1515915625728802311          2021-12-20\n",
       "4  1515915625915446913          2023-01-16"
      ]
     },
     "execution_count": 32,
     "metadata": {},
     "output_type": "execute_result"
    }
   ],
   "source": [
    "# Đọc dữ liệu từ file CSV\n",
    "client_first_purchase_df = pd.read_csv('dataset/client_first_purchase_date.csv')\n",
    "\n",
    "# Hiển thị 5 dòng đầu tiên\n",
    "client_first_purchase_df.head()"
   ]
  },
  {
   "cell_type": "code",
   "execution_count": 33,
   "id": "f37766a7",
   "metadata": {},
   "outputs": [
    {
     "name": "stdout",
     "output_type": "stream",
     "text": [
      "<class 'pandas.core.frame.DataFrame'>\n",
      "RangeIndex: 1854736 entries, 0 to 1854735\n",
      "Data columns (total 2 columns):\n",
      " #   Column               Dtype \n",
      "---  ------               ----- \n",
      " 0   client_id            int64 \n",
      " 1   first_purchase_date  object\n",
      "dtypes: int64(1), object(1)\n",
      "memory usage: 28.3+ MB\n"
     ]
    }
   ],
   "source": [
    "# Hiển thị thông tin về các cột trong DataFrame\n",
    "client_first_purchase_df.info()"
   ]
  },
  {
   "cell_type": "code",
   "execution_count": 34,
   "id": "d4e96f7f",
   "metadata": {},
   "outputs": [
    {
     "data": {
      "text/html": [
       "<div>\n",
       "<style scoped>\n",
       "    .dataframe tbody tr th:only-of-type {\n",
       "        vertical-align: middle;\n",
       "    }\n",
       "\n",
       "    .dataframe tbody tr th {\n",
       "        vertical-align: top;\n",
       "    }\n",
       "\n",
       "    .dataframe thead th {\n",
       "        text-align: right;\n",
       "    }\n",
       "</style>\n",
       "<table border=\"1\" class=\"dataframe\">\n",
       "  <thead>\n",
       "    <tr style=\"text-align: right;\">\n",
       "      <th></th>\n",
       "      <th>client_id</th>\n",
       "    </tr>\n",
       "  </thead>\n",
       "  <tbody>\n",
       "    <tr>\n",
       "      <th>count</th>\n",
       "      <td>1.854736e+06</td>\n",
       "    </tr>\n",
       "    <tr>\n",
       "      <th>mean</th>\n",
       "      <td>1.515916e+18</td>\n",
       "    </tr>\n",
       "    <tr>\n",
       "      <th>std</th>\n",
       "      <td>1.939981e+08</td>\n",
       "    </tr>\n",
       "    <tr>\n",
       "      <th>min</th>\n",
       "      <td>1.515916e+18</td>\n",
       "    </tr>\n",
       "    <tr>\n",
       "      <th>25%</th>\n",
       "      <td>1.515916e+18</td>\n",
       "    </tr>\n",
       "    <tr>\n",
       "      <th>50%</th>\n",
       "      <td>1.515916e+18</td>\n",
       "    </tr>\n",
       "    <tr>\n",
       "      <th>75%</th>\n",
       "      <td>1.515916e+18</td>\n",
       "    </tr>\n",
       "    <tr>\n",
       "      <th>max</th>\n",
       "      <td>1.515916e+18</td>\n",
       "    </tr>\n",
       "  </tbody>\n",
       "</table>\n",
       "</div>"
      ],
      "text/plain": [
       "          client_id\n",
       "count  1.854736e+06\n",
       "mean   1.515916e+18\n",
       "std    1.939981e+08\n",
       "min    1.515916e+18\n",
       "25%    1.515916e+18\n",
       "50%    1.515916e+18\n",
       "75%    1.515916e+18\n",
       "max    1.515916e+18"
      ]
     },
     "execution_count": 34,
     "metadata": {},
     "output_type": "execute_result"
    }
   ],
   "source": [
    "# Kiểm tra các giá trị thống kê mô tả\n",
    "client_first_purchase_df.describe()"
   ]
  },
  {
   "cell_type": "code",
   "execution_count": 36,
   "id": "ee24ebf3",
   "metadata": {},
   "outputs": [
    {
     "data": {
      "text/plain": [
       "1854736"
      ]
     },
     "execution_count": 36,
     "metadata": {},
     "output_type": "execute_result"
    }
   ],
   "source": [
    "# Kiểm tra số lượng khách hàng duy nhất\n",
    "num_unique_clients = client_first_purchase_df['client_id'].nunique()\n",
    "num_unique_clients"
   ]
  },
  {
   "cell_type": "code",
   "execution_count": 39,
   "id": "f51e75d5",
   "metadata": {},
   "outputs": [
    {
     "name": "stdout",
     "output_type": "stream",
     "text": [
      "Số lượng khách hàng duy nhất: 1854736\n",
      "Ngày mua hàng đầu tiên sớm nhất: 2021-12-15\n",
      "Ngày mua hàng đầu tiên gần nhất: 2023-12-14\n",
      "Tổng số khách hàng: 1854736\n"
     ]
    }
   ],
   "source": [
    "# Kiểm tra số lượng khách hàng duy nhất\n",
    "num_unique_clients = client_first_purchase_df['client_id'].nunique()\n",
    "\n",
    "# Kiểm tra ngày mua hàng đầu tiên gần nhất và sớm nhất\n",
    "earliest_purchase_date = client_first_purchase_df['first_purchase_date'].min()\n",
    "latest_purchase_date = client_first_purchase_df['first_purchase_date'].max()\n",
    "\n",
    "# Số lượng khách hàng\n",
    "num_clients = client_first_purchase_df.shape[0]\n",
    "\n",
    "print(f\"Số lượng khách hàng duy nhất: {num_unique_clients}\")\n",
    "print(f\"Ngày mua hàng đầu tiên sớm nhất: {earliest_purchase_date}\")\n",
    "print(f\"Ngày mua hàng đầu tiên gần nhất: {latest_purchase_date}\")\n",
    "print(f\"Tổng số khách hàng: {num_clients}\")"
   ]
  },
  {
   "cell_type": "code",
   "execution_count": 40,
   "id": "17909cd6",
   "metadata": {},
   "outputs": [],
   "source": [
    "# Chuyển đổi cột `first_purchase_date` thành kiểu datetime\n",
    "client_first_purchase_df['first_purchase_date'] = pd.to_datetime(client_first_purchase_df['first_purchase_date'])"
   ]
  },
  {
   "cell_type": "code",
   "execution_count": 41,
   "id": "bf6c209d",
   "metadata": {},
   "outputs": [
    {
     "name": "stdout",
     "output_type": "stream",
     "text": [
      "purchase_year  purchase_month\n",
      "2021           12                 62058\n",
      "2022           1                  53422\n",
      "               2                  55112\n",
      "               3                  87185\n",
      "               4                  80263\n",
      "               5                  61869\n",
      "               6                  73230\n",
      "               7                  56902\n",
      "               8                  61472\n",
      "               9                  52620\n",
      "               10                 50560\n",
      "               11                 91824\n",
      "               12                 76346\n",
      "2023           1                  38285\n",
      "               2                  31738\n",
      "               3                  67233\n",
      "               4                  75621\n",
      "               5                 122142\n",
      "               6                 130585\n",
      "               7                 106369\n",
      "               8                 124780\n",
      "               9                  78703\n",
      "               10                 88118\n",
      "               11                 92270\n",
      "               12                 36029\n",
      "dtype: int64\n"
     ]
    }
   ],
   "source": [
    "# Tính số ngày từ lần mua đầu tiên đến ngày hiện tại\n",
    "client_first_purchase_df['days_since_first_purchase'] = (pd.to_datetime('today') - client_first_purchase_df['first_purchase_date']).dt.days\n",
    "\n",
    "# Phân nhóm theo năm và tháng\n",
    "client_first_purchase_df['purchase_year'] = client_first_purchase_df['first_purchase_date'].dt.year\n",
    "client_first_purchase_df['purchase_month'] = client_first_purchase_df['first_purchase_date'].dt.month\n",
    "\n",
    "# Thống kê theo năm và tháng\n",
    "purchase_by_year_month = client_first_purchase_df.groupby(['purchase_year', 'purchase_month']).size()\n",
    "\n",
    "print(purchase_by_year_month)"
   ]
  },
  {
   "cell_type": "code",
   "execution_count": 42,
   "id": "a49e1d90",
   "metadata": {},
   "outputs": [],
   "source": [
    "# Lọc các khách hàng có ngày mua hàng trong năm 2022\n",
    "purchase_2022 = client_first_purchase_df[client_first_purchase_df['purchase_year'] == 2022]"
   ]
  },
  {
   "cell_type": "code",
   "execution_count": 43,
   "id": "24f886e6",
   "metadata": {},
   "outputs": [
    {
     "data": {
      "image/png": "[encoded data removed]",
      "text/plain": [
       "<Figure size 1000x600 with 1 Axes>"
      ]
     },
     "metadata": {},
     "output_type": "display_data"
    }
   ],
   "source": [
    "# Vẽ histogram để xem phân bố của ngày mua hàng\n",
    "import matplotlib.pyplot as plt\n",
    "\n",
    "plt.figure(figsize=(10, 6))\n",
    "plt.hist(client_first_purchase_df['days_since_first_purchase'], bins=50, color='skyblue', edgecolor='black')\n",
    "plt.title('Phân bố số ngày từ lần mua đầu tiên')\n",
    "plt.xlabel('Số ngày từ lần mua đầu tiên')\n",
    "plt.ylabel('Số khách hàng')\n",
    "plt.show()"
   ]
  },
  {
   "cell_type": "code",
   "execution_count": null,
   "id": "60ce5146",
   "metadata": {},
   "outputs": [],
   "source": []
  }
 ],
 "metadata": {
  "kernelspec": {
   "display_name": "Python 3",
   "language": "python",
   "name": "python3"
  },
  "language_info": {
   "codemirror_mode": {
    "name": "ipython",
    "version": 3
   },
   "file_extension": ".py",
   "mimetype": "text/x-python",
   "name": "python",
   "nbconvert_exporter": "python",
   "pygments_lexer": "ipython3",
   "version": "3.12.6"
  },
  "papermill": {
   "default_parameters": {},
   "duration": 271.41359,
   "end_time": "2023-06-11T13:46:32.342244",
   "environment_variables": {},
   "exception": null,
   "input_path": "__notebook__.ipynb",
   "output_path": "__notebook__.ipynb",
   "parameters": {},
   "start_time": "2023-06-11T13:42:00.928654",
   "version": "2.4.0"
  }
 },
 "nbformat": 4,
 "nbformat_minor": 5
}
